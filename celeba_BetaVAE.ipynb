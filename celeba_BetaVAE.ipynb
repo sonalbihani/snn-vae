{
  "nbformat": 4,
  "nbformat_minor": 0,
  "metadata": {
    "colab": {
      "provenance": []
    },
    "kernelspec": {
      "name": "python3",
      "display_name": "Python 3"
    },
    "language_info": {
      "name": "python"
    },
    "gpuClass": "standard"
  },
  "cells": [
    {
      "cell_type": "code",
      "execution_count": 1,
      "metadata": {
        "id": "COw9vsY9VqBI"
      },
      "outputs": [],
      "source": [
        "# required imports\n",
        "import torch\n",
        "import torch.nn as nn\n",
        "import torch.nn.functional as F\n",
        "import torchvision\n",
        "from torch import optim\n",
        "from torchvision import datasets, transforms\n",
        "from torchvision.utils import save_image\n",
        "import matplotlib.pyplot as plt\n",
        "import numpy as np\n",
        "import random\n",
        "from tqdm import tqdm\n",
        "\n",
        "# for reading in the PyTorchVAE code\n",
        "import sys\n",
        "sys.path.insert(0, 'drive/MyDrive/School/cs679/final/PyTorch-VAE')\n",
        "# sys.path.insert(0, 'drive/MyDrive/School/cs679/final/Data')\n",
        "\n",
        "\n",
        "\n",
        "from typing import List, Callable, Union, Any, TypeVar, Tuple\n",
        "# from torch import tensor as Tensor\n",
        "Tensor = TypeVar('torch.tensor')\n",
        "from abc import abstractmethod\n",
        "\n",
        "# some initial env checks\n",
        "device = torch.device('cuda' if torch.cuda.is_available() else 'cpu')"
      ]
    },
    {
      "cell_type": "code",
      "source": [
        "class VAE(nn.Module):\n",
        "\n",
        "    num_iter = 0 # Global static variable to keep track of iterations\n",
        "\n",
        "    def __init__(self, in_channels=3, hidden_dims=[32, 64, 128, 256, 512], latent_dim=128,\n",
        "                 beta: int = 4,\n",
        "                 gamma:float = 10.,\n",
        "                 max_capacity: int = 25,\n",
        "                 Capacity_max_iter: int = 1e5,\n",
        "                 loss_type = \"beta\",\n",
        "                 kld_weight_corrector = 1.0):\n",
        "        super(VAE, self).__init__()\n",
        "\n",
        "        self.latent_dim = latent_dim\n",
        "        self.beta = beta\n",
        "        self.gamma = gamma\n",
        "        self.C_max = torch.Tensor([max_capacity])\n",
        "        self.C_stop_iter = Capacity_max_iter\n",
        "        self.loss_type = loss_type\n",
        "        self.kld_weight = kld_weight_corrector\n",
        "\n",
        "        # Build Encoder\n",
        "        modules = []\n",
        "\n",
        "        for h_dim in hidden_dims:\n",
        "            modules.append(\n",
        "                nn.Sequential(\n",
        "                    nn.Conv2d(in_channels, out_channels=h_dim,\n",
        "                              kernel_size= 3, stride= 2, padding  = 1),\n",
        "                    nn.BatchNorm2d(h_dim),\n",
        "                    nn.LeakyReLU())\n",
        "            )\n",
        "            in_channels = h_dim\n",
        "\n",
        "        self.encoder = nn.Sequential(*modules)\n",
        "        self.fc_mu = nn.Linear(hidden_dims[-1]*4, latent_dim)\n",
        "        self.fc_var = nn.Linear(hidden_dims[-1]*4, latent_dim)\n",
        "\n",
        "        # Build Decoder\n",
        "        modules = []\n",
        "\n",
        "        self.decoder_input = nn.Linear(latent_dim, hidden_dims[-1] * 4)\n",
        "\n",
        "        hidden_dims.reverse()\n",
        "\n",
        "        for i in range(len(hidden_dims) - 1):\n",
        "            modules.append(\n",
        "                nn.Sequential(\n",
        "                    nn.ConvTranspose2d(hidden_dims[i],\n",
        "                                       hidden_dims[i + 1],\n",
        "                                       kernel_size=3,\n",
        "                                       stride = 2,\n",
        "                                       padding=1,\n",
        "                                       output_padding=1),\n",
        "                    nn.BatchNorm2d(hidden_dims[i + 1]),\n",
        "                    nn.LeakyReLU())\n",
        "            )\n",
        "            \n",
        "        self.decoder = nn.Sequential(*modules)\n",
        "\n",
        "        self.final_layer = nn.Sequential(\n",
        "                            nn.ConvTranspose2d(hidden_dims[-1],\n",
        "                                               hidden_dims[-1],\n",
        "                                               kernel_size=3,\n",
        "                                               stride=2,\n",
        "                                               padding=1,\n",
        "                                               output_padding=1),\n",
        "                            nn.BatchNorm2d(hidden_dims[-1]),\n",
        "                            nn.LeakyReLU(),\n",
        "                            nn.Conv2d(hidden_dims[-1], out_channels=3,\n",
        "                                      kernel_size= 3, padding= 1),\n",
        "                            nn.Tanh())\n",
        "    def encode(self, input: Tensor) -> List[Tensor]:\n",
        "        \"\"\"\n",
        "        Encodes the input by passing through the encoder network\n",
        "        and returns the latent codes.\n",
        "        :param input: (Tensor) Input tensor to encoder [N x C x H x W]\n",
        "        :return: (Tensor) List of latent codes\n",
        "        \"\"\"\n",
        "        result = self.encoder(input)\n",
        "        result = torch.flatten(result, start_dim=1)\n",
        "\n",
        "        # Split the result into mu and var components\n",
        "        # of the latent Gaussian distribution\n",
        "        mu = self.fc_mu(result)\n",
        "        log_var = self.fc_var(result)\n",
        "\n",
        "        return [mu, log_var]\n",
        "\n",
        "    def decode(self, z: Tensor) -> Tensor:\n",
        "        result = self.decoder_input(z)\n",
        "        result = result.view(-1, 512, 2, 2)\n",
        "        result = self.decoder(result)\n",
        "        result = self.final_layer(result)\n",
        "        return result\n",
        "\n",
        "    def reparameterize(self, mu: Tensor, logvar: Tensor) -> Tensor:\n",
        "        \"\"\"\n",
        "        Will a single z be enough ti compute the expectation\n",
        "        for the loss??\n",
        "        :param mu: (Tensor) Mean of the latent Gaussian\n",
        "        :param logvar: (Tensor) Standard deviation of the latent Gaussian\n",
        "        :return:\n",
        "        \"\"\"\n",
        "        std = torch.exp(0.5 * logvar)\n",
        "        eps = torch.randn_like(std)\n",
        "        return eps * std + mu\n",
        "\n",
        "    def forward(self, input: Tensor, **kwargs) -> Tensor:\n",
        "        mu, log_var = self.encode(input)\n",
        "        z = self.reparameterize(mu, log_var)\n",
        "        return  [self.decode(z), input, mu, log_var]\n",
        "\n",
        "    def loss_function(self,\n",
        "                      *args,\n",
        "                      **kwargs) -> dict:\n",
        "        self.num_iter += 1\n",
        "        recons = args[0]\n",
        "        input = args[1]\n",
        "        mu = args[2]\n",
        "        log_var = args[3]\n",
        "        # kld_weight = 0.00025  # Account for the minibatch samples from the dataset\n",
        "        kld_weight = self.kld_weight\n",
        "\n",
        "        recons_loss =F.mse_loss(recons, input)\n",
        "\n",
        "        kld_loss = torch.mean(-0.5 * torch.sum(1 + log_var - mu ** 2 - log_var.exp(), dim = 1), dim = 0)\n",
        "\n",
        "        if self.loss_type == 'beta': # https://openreview.net/forum?id=Sy2fzU9gl\n",
        "            loss = recons_loss + self.beta * kld_weight * kld_loss\n",
        "        else: # https://arxiv.org/pdf/1804.03599.pdf\n",
        "            self.C_max = self.C_max.to(device)\n",
        "            C = torch.clamp(self.C_max/self.C_stop_iter * self.num_iter, 0, self.C_max.data[0])\n",
        "            loss = recons_loss + self.gamma * kld_weight* (kld_loss - C).abs()\n",
        "\n",
        "        return {'loss': loss, 'Reconstruction_Loss':recons_loss, 'KLD':kld_loss}\n",
        "\n",
        "    def sample(self,\n",
        "               num_samples:int,\n",
        "               **kwargs) -> Tensor:\n",
        "        \"\"\"\n",
        "        Samples from the latent space and return the corresponding\n",
        "        image space map.\n",
        "        :param num_samples: (Int) Number of samples\n",
        "        :param current_device: (Int) Device to run the model\n",
        "        :return: (Tensor)\n",
        "        \"\"\"\n",
        "        z = torch.randn(num_samples,\n",
        "                        self.latent_dim)\n",
        "\n",
        "        z = z.to(device)\n",
        "\n",
        "        samples = self.decode(z)\n",
        "        return samples\n",
        "\n",
        "    def generate(self, x: Tensor, **kwargs) -> Tensor:\n",
        "        \"\"\"\n",
        "        Given an input image x, returns the reconstructed image\n",
        "        :param x: (Tensor) [B x C x H x W]\n",
        "        :return: (Tensor) [B x C x H x W]\n",
        "        \"\"\"\n",
        "\n",
        "        return self.forward(x)[0]"
      ],
      "metadata": {
        "id": "PXkaL3gZVz9w"
      },
      "execution_count": 63,
      "outputs": []
    },
    {
      "cell_type": "markdown",
      "source": [
        "## Reading in Data & Setting Up Transforms"
      ],
      "metadata": {
        "id": "y6RukD5UX2kE"
      }
    },
    {
      "cell_type": "code",
      "source": [
        "!gdown 1m8-EBPgi5MRubrm6iQjafK2QMHDBMSfJ"
      ],
      "metadata": {
        "colab": {
          "base_uri": "https://localhost:8080/"
        },
        "id": "JKxTPS5ViEBs",
        "outputId": "24f86f9e-563d-4d72-ce20-5900c9119c44"
      },
      "execution_count": 5,
      "outputs": [
        {
          "output_type": "stream",
          "name": "stdout",
          "text": [
            "Downloading...\n",
            "From: https://drive.google.com/uc?id=1m8-EBPgi5MRubrm6iQjafK2QMHDBMSfJ\n",
            "To: /content/celeba.zip\n",
            "100% 1.31G/1.31G [00:27<00:00, 47.1MB/s]\n",
            "Archive:  /content/celeba.zip\n",
            "   creating: celeba/\n",
            "  inflating: celeba/img_align_celeba.zip  \n",
            "  inflating: __MACOSX/celeba/._img_align_celeba.zip  \n",
            "  inflating: celeba/list_attr_celeba.txt  \n",
            "  inflating: __MACOSX/celeba/._list_attr_celeba.txt  \n",
            "  inflating: celeba/.DS_Store        \n",
            "  inflating: __MACOSX/celeba/._.DS_Store  \n",
            "  inflating: celeba/list_bbox_celeba.txt  \n",
            "  inflating: __MACOSX/celeba/._list_bbox_celeba.txt  \n",
            "  inflating: celeba/list_landmarks_align_celeba.txt  \n",
            "  inflating: __MACOSX/celeba/._list_landmarks_align_celeba.txt  \n",
            "  inflating: celeba/list_landmarks_celeba.txt  \n",
            "  inflating: __MACOSX/celeba/._list_landmarks_celeba.txt  \n",
            "  inflating: celeba/list_eval_partition.txt  \n",
            "  inflating: __MACOSX/celeba/._list_eval_partition.txt  \n",
            "  inflating: celeba/identity_CelebA.txt  \n",
            "  inflating: __MACOSX/celeba/._identity_CelebA.txt  \n"
          ]
        }
      ]
    },
    {
      "cell_type": "code",
      "source": [
        "!unzip /content/celeba.zip"
      ],
      "metadata": {
        "id": "oDhsJ6O83xzv"
      },
      "execution_count": null,
      "outputs": []
    },
    {
      "cell_type": "code",
      "source": [
        "from torch.utils.data import DataLoader, Dataset\n",
        "from torchvision.datasets import CelebA\n",
        "import zipfile\n",
        "from torchvision.datasets import ImageFolder\n",
        "\n",
        "# parameters taken from tuned BetaVAE\n",
        "patch_size = 64\n",
        "train_batch_size = 16\n",
        "val_batch_size = 16\n",
        "\n",
        "class MyCelebA(CelebA):\n",
        "    \"\"\"\n",
        "    A work-around to address issues with pytorch's celebA dataset class.\n",
        "    \n",
        "    Download and Extract\n",
        "    URL : https://drive.google.com/file/d/1m8-EBPgi5MRubrm6iQjafK2QMHDBMSfJ/view?usp=sharing\n",
        "    \"\"\"\n",
        "    \n",
        "    def _check_integrity(self) -> bool:\n",
        "        return True\n",
        "\n",
        "train_transforms = transforms.Compose([transforms.RandomHorizontalFlip(),\n",
        "                                      transforms.CenterCrop(148),\n",
        "                                      transforms.Resize(patch_size),\n",
        "                                      transforms.ToTensor(),])\n",
        "\n",
        "val_transforms = transforms.Compose([transforms.RandomHorizontalFlip(),\n",
        "                                    transforms.CenterCrop(148),\n",
        "                                    transforms.Resize(patch_size),\n",
        "                                    transforms.ToTensor(),])\n",
        "\n",
        "# IMAGE_PATH = 'drive/MyDrive/School/cs679/final/Data/Data/celeba/img_align_celeba/'\n",
        "# bypass = ImageFolder(IMAGE_PATH, train_transforms)\n",
        "train_dataset = MyCelebA(\n",
        "    \"/content\",\n",
        "    split='train',\n",
        "    transform=train_transforms,\n",
        "    download=False,\n",
        ")\n",
        "\n",
        "val_dataset = MyCelebA(\n",
        "    '/content',\n",
        "    split='test',\n",
        "    transform=val_transforms,\n",
        "    download=False,\n",
        ")\n",
        "\n",
        "def train_dataloader(train_dataset) -> DataLoader:\n",
        "    return DataLoader(\n",
        "        train_dataset,\n",
        "        batch_size=train_batch_size,\n",
        "        num_workers=1,\n",
        "        shuffle=True,\n",
        "        pin_memory=True,\n",
        "    )\n",
        "\n",
        "def val_dataloader(val_dataset) -> Union[DataLoader, List[DataLoader]]:\n",
        "    return DataLoader(\n",
        "        val_dataset,\n",
        "        batch_size=val_batch_size,\n",
        "        num_workers=1,\n",
        "        shuffle=False,\n",
        "        pin_memory=True,\n",
        "    )\n",
        "\n",
        "def test_dataloader(val_dataset) -> Union[DataLoader, List[DataLoader]]:\n",
        "    return DataLoader(\n",
        "        val_dataset,\n",
        "        batch_size=1,\n",
        "        num_workers=1,\n",
        "        shuffle=True,\n",
        "        pin_memory=True,\n",
        "    )"
      ],
      "metadata": {
        "id": "BiN27GHaX0yK"
      },
      "execution_count": 109,
      "outputs": []
    },
    {
      "cell_type": "code",
      "source": [
        "!unzip /content/celeba/img_align_celeba.zip -d /content/celeba/"
      ],
      "metadata": {
        "id": "WNASNaIwo145"
      },
      "execution_count": null,
      "outputs": []
    },
    {
      "cell_type": "code",
      "source": [
        "def configure_optimizer(model):\n",
        "    optimizer = optim.Adam(model.parameters(),\n",
        "                            lr=5e-4,\n",
        "                            weight_decay=0.)\n",
        "    \n",
        "    scheduler = optim.lr_scheduler.ExponentialLR(optimizer,\n",
        "                            gamma = 0.95)\n",
        "\n",
        "    return optimizer, scheduler"
      ],
      "metadata": {
        "id": "TmiNL4PScD00"
      },
      "execution_count": 110,
      "outputs": []
    },
    {
      "cell_type": "code",
      "source": [
        "# supposed to account for minibatch overweighting\n",
        "kld_correction = train_batch_size/len(train_dataset)\n",
        "\n",
        "raw_vae = VAE(in_channels=3, beta=4,\n",
        "              # loss_type=\"beta\", \n",
        "              kld_weight_corrector=.00025)\n",
        "raw_vae.to(device)\n",
        "\n",
        "optimizer, scheduler = configure_optimizer(raw_vae)\n",
        "# train_dl = train_dataloader(train_dataset)\n",
        "\n",
        "train_dl = train_dataloader(train_dataset)"
      ],
      "metadata": {
        "id": "l16Aul0EXjgY"
      },
      "execution_count": 113,
      "outputs": []
    },
    {
      "cell_type": "code",
      "source": [
        "for epoch in range(2):\n",
        "    for idx, data in enumerate(tqdm(train_dl, 0)):\n",
        "        imgs, labels = data\n",
        "        imgs = imgs.to(device)\n",
        "\n",
        "        # Feeding a batch of images into the network to obtain the output image, mu, and logVar\n",
        "        results = raw_vae(imgs)\n",
        "\n",
        "        train_loss = raw_vae.loss_function(*results)\n",
        "\n",
        "        # Backpropagation based on the loss\n",
        "        optimizer.zero_grad()\n",
        "        train_loss['loss'].backward()\n",
        "        optimizer.step()\n",
        "    scheduler.step()\n",
        "\n",
        "    print('Epoch {}: Loss {}'.format(epoch, train_loss))"
      ],
      "metadata": {
        "colab": {
          "base_uri": "https://localhost:8080/"
        },
        "id": "_K-8vPJnduAk",
        "outputId": "2e567ed6-372f-4266-f7d5-19fa573398dd"
      },
      "execution_count": 147,
      "outputs": [
        {
          "output_type": "stream",
          "name": "stderr",
          "text": [
            "100%|██████████| 10174/10174 [05:48<00:00, 29.17it/s]\n"
          ]
        },
        {
          "output_type": "stream",
          "name": "stdout",
          "text": [
            "Epoch 0: Loss {'loss': tensor(0.0480, device='cuda:0', grad_fn=<AddBackward0>), 'Reconstruction_Loss': tensor(0.0369, device='cuda:0', grad_fn=<MseLossBackward0>), 'KLD': tensor(11.1030, device='cuda:0', grad_fn=<MeanBackward1>)}\n"
          ]
        },
        {
          "output_type": "stream",
          "name": "stderr",
          "text": [
            "100%|██████████| 10174/10174 [05:48<00:00, 29.16it/s]"
          ]
        },
        {
          "output_type": "stream",
          "name": "stdout",
          "text": [
            "Epoch 1: Loss {'loss': tensor(0.0505, device='cuda:0', grad_fn=<AddBackward0>), 'Reconstruction_Loss': tensor(0.0392, device='cuda:0', grad_fn=<MseLossBackward0>), 'KLD': tensor(11.2733, device='cuda:0', grad_fn=<MeanBackward1>)}\n"
          ]
        },
        {
          "output_type": "stream",
          "name": "stderr",
          "text": [
            "\n"
          ]
        }
      ]
    },
    {
      "cell_type": "code",
      "source": [
        "test_dl = test_dataloader(val_dataset)\n",
        "\n",
        "test_input, test_label = next(iter(test_dataloader(val_dataset)))\n",
        "test_input = test_input.to(device)\n",
        "test_label = test_label.to(device)\n",
        "\n",
        "recons = raw_vae.generate(test_input, labels = test_label)"
      ],
      "metadata": {
        "id": "ECkcy-A-30Dj"
      },
      "execution_count": null,
      "outputs": []
    },
    {
      "cell_type": "code",
      "source": [
        "plt.imshow(  test_input[0].cpu().detach().permute(1, 2, 0)  )"
      ],
      "metadata": {
        "colab": {
          "base_uri": "https://localhost:8080/",
          "height": 285
        },
        "id": "WMtbx-1s6mKz",
        "outputId": "dfe03301-6530-4e12-f25a-be7c09dffc44"
      },
      "execution_count": 168,
      "outputs": [
        {
          "output_type": "execute_result",
          "data": {
            "text/plain": [
              "<matplotlib.image.AxesImage at 0x7f6977257250>"
            ]
          },
          "metadata": {},
          "execution_count": 168
        },
        {
          "output_type": "display_data",
          "data": {
            "text/plain": [
              "<Figure size 432x288 with 1 Axes>"
            ],
            "image/png": "[encoded data removed]"
          },
          "metadata": {
            "needs_background": "light"
          }
        }
      ]
    },
    {
      "cell_type": "code",
      "source": [
        "plt.imshow(  recons[0].cpu().detach().permute(1, 2, 0)  )"
      ],
      "metadata": {
        "colab": {
          "base_uri": "https://localhost:8080/",
          "height": 285
        },
        "id": "d4Yd_YPb92M1",
        "outputId": "6ac61f2f-80cd-469f-f6dd-6ed4d76ff3a1"
      },
      "execution_count": 169,
      "outputs": [
        {
          "output_type": "execute_result",
          "data": {
            "text/plain": [
              "<matplotlib.image.AxesImage at 0x7f6976df6790>"
            ]
          },
          "metadata": {},
          "execution_count": 169
        },
        {
          "output_type": "display_data",
          "data": {
            "text/plain": [
              "<Figure size 432x288 with 1 Axes>"
            ],
            "image/png": "[encoded data removed]"
          },
          "metadata": {
            "needs_background": "light"
          }
        }
      ]
    },
    {
      "cell_type": "code",
      "source": [
        "mu, log_var = raw_vae.encode(test_input)\n",
        "mu[0][0] = mu[0][3] + 0.06\n",
        "z = raw_vae.reparameterize(mu, log_var)\n",
        "plt.imshow(  raw_vae.decode(z)[0].cpu().detach().permute(1, 2, 0)  )"
      ],
      "metadata": {
        "colab": {
          "base_uri": "https://localhost:8080/",
          "height": 285
        },
        "id": "2BWeECFPrX3P",
        "outputId": "48a55358-7cf3-4970-ab63-57d86d19a14f"
      },
      "execution_count": 194,
      "outputs": [
        {
          "output_type": "execute_result",
          "data": {
            "text/plain": [
              "<matplotlib.image.AxesImage at 0x7f6974edcaf0>"
            ]
          },
          "metadata": {},
          "execution_count": 194
        },
        {
          "output_type": "display_data",
          "data": {
            "text/plain": [
              "<Figure size 432x288 with 1 Axes>"
            ],
            "image/png": "[encoded data removed]"
          },
          "metadata": {
            "needs_background": "light"
          }
        }
      ]
    },
    {
      "cell_type": "code",
      "source": [
        "new_perp = raw_vae.sample(1)\n",
        "plt.imshow(  new_perp[0].cpu().detach().permute(1, 2, 0)  )"
      ],
      "metadata": {
        "colab": {
          "base_uri": "https://localhost:8080/",
          "height": 285
        },
        "id": "LUl1YHNrUYmc",
        "outputId": "81839a2f-b66d-4fb1-9b2c-6442d444aa65"
      },
      "execution_count": 154,
      "outputs": [
        {
          "output_type": "execute_result",
          "data": {
            "text/plain": [
              "<matplotlib.image.AxesImage at 0x7f696faf5040>"
            ]
          },
          "metadata": {},
          "execution_count": 154
        },
        {
          "output_type": "display_data",
          "data": {
            "text/plain": [
              "<Figure size 432x288 with 1 Axes>"
            ],
            "image/png": "[encoded data removed]"
          },
          "metadata": {
            "needs_background": "light"
          }
        }
      ]
    },
    {
      "cell_type": "code",
      "source": [],
      "metadata": {
        "id": "hU5VPfRojeyZ"
      },
      "execution_count": null,
      "outputs": []
    }
  ]
}