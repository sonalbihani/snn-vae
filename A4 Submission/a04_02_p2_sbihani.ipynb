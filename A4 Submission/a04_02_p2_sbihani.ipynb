{
  "nbformat": 4,
  "nbformat_minor": 0,
  "metadata": {
    "colab": {
      "provenance": []
    },
    "kernelspec": {
      "name": "python3",
      "display_name": "Python 3"
    },
    "language_info": {
      "name": "python"
    },
    "widgets": {
      "application/vnd.jupyter.widget-state+json": {
        "ab4c038678974a7e848d47197bd92665": {
          "model_module": "@jupyter-widgets/controls",
          "model_name": "HBoxModel",
          "model_module_version": "1.5.0",
          "state": {
            "_dom_classes": [],
            "_model_module": "@jupyter-widgets/controls",
            "_model_module_version": "1.5.0",
            "_model_name": "HBoxModel",
            "_view_count": null,
            "_view_module": "@jupyter-widgets/controls",
            "_view_module_version": "1.5.0",
            "_view_name": "HBoxView",
            "box_style": "",
            "children": [
              "IPY_MODEL_430a8fa6825e4e07aa02e07452cde8c3",
              "IPY_MODEL_24552b2df70d4af5bb9f24dcc17fc383",
              "IPY_MODEL_d03a770a386e461798a7559dab405e4c"
            ],
            "layout": "IPY_MODEL_3ab048b01f924e3ba9a4572078ae7d34"
          }
        },
        "430a8fa6825e4e07aa02e07452cde8c3": {
          "model_module": "@jupyter-widgets/controls",
          "model_name": "HTMLModel",
          "model_module_version": "1.5.0",
          "state": {
            "_dom_classes": [],
            "_model_module": "@jupyter-widgets/controls",
            "_model_module_version": "1.5.0",
            "_model_name": "HTMLModel",
            "_view_count": null,
            "_view_module": "@jupyter-widgets/controls",
            "_view_module_version": "1.5.0",
            "_view_name": "HTMLView",
            "description": "",
            "description_tooltip": null,
            "layout": "IPY_MODEL_72a2e458d8f24ff3a7bcac2e6f935ef8",
            "placeholder": "​",
            "style": "IPY_MODEL_a7f7f73f3d58427eb12a671d8cb92e94",
            "value": "100%"
          }
        },
        "24552b2df70d4af5bb9f24dcc17fc383": {
          "model_module": "@jupyter-widgets/controls",
          "model_name": "FloatProgressModel",
          "model_module_version": "1.5.0",
          "state": {
            "_dom_classes": [],
            "_model_module": "@jupyter-widgets/controls",
            "_model_module_version": "1.5.0",
            "_model_name": "FloatProgressModel",
            "_view_count": null,
            "_view_module": "@jupyter-widgets/controls",
            "_view_module_version": "1.5.0",
            "_view_name": "ProgressView",
            "bar_style": "success",
            "description": "",
            "description_tooltip": null,
            "layout": "IPY_MODEL_ca44e4bc74a741b19a3542eaf18625ed",
            "max": 9912422,
            "min": 0,
            "orientation": "horizontal",
            "style": "IPY_MODEL_aacd4ce474384d42a4300cd80eb17edb",
            "value": 9912422
          }
        },
        "d03a770a386e461798a7559dab405e4c": {
          "model_module": "@jupyter-widgets/controls",
          "model_name": "HTMLModel",
          "model_module_version": "1.5.0",
          "state": {
            "_dom_classes": [],
            "_model_module": "@jupyter-widgets/controls",
            "_model_module_version": "1.5.0",
            "_model_name": "HTMLModel",
            "_view_count": null,
            "_view_module": "@jupyter-widgets/controls",
            "_view_module_version": "1.5.0",
            "_view_name": "HTMLView",
            "description": "",
            "description_tooltip": null,
            "layout": "IPY_MODEL_f6a0a87b0d604d2abca29031da010949",
            "placeholder": "​",
            "style": "IPY_MODEL_f1334fb071964eee807f0bd786681de3",
            "value": " 9912422/9912422 [00:00&lt;00:00, 16572675.98it/s]"
          }
        },
        "3ab048b01f924e3ba9a4572078ae7d34": {
          "model_module": "@jupyter-widgets/base",
          "model_name": "LayoutModel",
          "model_module_version": "1.2.0",
          "state": {
            "_model_module": "@jupyter-widgets/base",
            "_model_module_version": "1.2.0",
            "_model_name": "LayoutModel",
            "_view_count": null,
            "_view_module": "@jupyter-widgets/base",
            "_view_module_version": "1.2.0",
            "_view_name": "LayoutView",
            "align_content": null,
            "align_items": null,
            "align_self": null,
            "border": null,
            "bottom": null,
            "display": null,
            "flex": null,
            "flex_flow": null,
            "grid_area": null,
            "grid_auto_columns": null,
            "grid_auto_flow": null,
            "grid_auto_rows": null,
            "grid_column": null,
            "grid_gap": null,
            "grid_row": null,
            "grid_template_areas": null,
            "grid_template_columns": null,
            "grid_template_rows": null,
            "height": null,
            "justify_content": null,
            "justify_items": null,
            "left": null,
            "margin": null,
            "max_height": null,
            "max_width": null,
            "min_height": null,
            "min_width": null,
            "object_fit": null,
            "object_position": null,
            "order": null,
            "overflow": null,
            "overflow_x": null,
            "overflow_y": null,
            "padding": null,
            "right": null,
            "top": null,
            "visibility": null,
            "width": null
          }
        },
        "72a2e458d8f24ff3a7bcac2e6f935ef8": {
          "model_module": "@jupyter-widgets/base",
          "model_name": "LayoutModel",
          "model_module_version": "1.2.0",
          "state": {
            "_model_module": "@jupyter-widgets/base",
            "_model_module_version": "1.2.0",
            "_model_name": "LayoutModel",
            "_view_count": null,
            "_view_module": "@jupyter-widgets/base",
            "_view_module_version": "1.2.0",
            "_view_name": "LayoutView",
            "align_content": null,
            "align_items": null,
            "align_self": null,
            "border": null,
            "bottom": null,
            "display": null,
            "flex": null,
            "flex_flow": null,
            "grid_area": null,
            "grid_auto_columns": null,
            "grid_auto_flow": null,
            "grid_auto_rows": null,
            "grid_column": null,
            "grid_gap": null,
            "grid_row": null,
            "grid_template_areas": null,
            "grid_template_columns": null,
            "grid_template_rows": null,
            "height": null,
            "justify_content": null,
            "justify_items": null,
            "left": null,
            "margin": null,
            "max_height": null,
            "max_width": null,
            "min_height": null,
            "min_width": null,
            "object_fit": null,
            "object_position": null,
            "order": null,
            "overflow": null,
            "overflow_x": null,
            "overflow_y": null,
            "padding": null,
            "right": null,
            "top": null,
            "visibility": null,
            "width": null
          }
        },
        "a7f7f73f3d58427eb12a671d8cb92e94": {
          "model_module": "@jupyter-widgets/controls",
          "model_name": "DescriptionStyleModel",
          "model_module_version": "1.5.0",
          "state": {
            "_model_module": "@jupyter-widgets/controls",
            "_model_module_version": "1.5.0",
            "_model_name": "DescriptionStyleModel",
            "_view_count": null,
            "_view_module": "@jupyter-widgets/base",
            "_view_module_version": "1.2.0",
            "_view_name": "StyleView",
            "description_width": ""
          }
        },
        "ca44e4bc74a741b19a3542eaf18625ed": {
          "model_module": "@jupyter-widgets/base",
          "model_name": "LayoutModel",
          "model_module_version": "1.2.0",
          "state": {
            "_model_module": "@jupyter-widgets/base",
            "_model_module_version": "1.2.0",
            "_model_name": "LayoutModel",
            "_view_count": null,
            "_view_module": "@jupyter-widgets/base",
            "_view_module_version": "1.2.0",
            "_view_name": "LayoutView",
            "align_content": null,
            "align_items": null,
            "align_self": null,
            "border": null,
            "bottom": null,
            "display": null,
            "flex": null,
            "flex_flow": null,
            "grid_area": null,
            "grid_auto_columns": null,
            "grid_auto_flow": null,
            "grid_auto_rows": null,
            "grid_column": null,
            "grid_gap": null,
            "grid_row": null,
            "grid_template_areas": null,
            "grid_template_columns": null,
            "grid_template_rows": null,
            "height": null,
            "justify_content": null,
            "justify_items": null,
            "left": null,
            "margin": null,
            "max_height": null,
            "max_width": null,
            "min_height": null,
            "min_width": null,
            "object_fit": null,
            "object_position": null,
            "order": null,
            "overflow": null,
            "overflow_x": null,
            "overflow_y": null,
            "padding": null,
            "right": null,
            "top": null,
            "visibility": null,
            "width": null
          }
        },
        "aacd4ce474384d42a4300cd80eb17edb": {
          "model_module": "@jupyter-widgets/controls",
          "model_name": "ProgressStyleModel",
          "model_module_version": "1.5.0",
          "state": {
            "_model_module": "@jupyter-widgets/controls",
            "_model_module_version": "1.5.0",
            "_model_name": "ProgressStyleModel",
            "_view_count": null,
            "_view_module": "@jupyter-widgets/base",
            "_view_module_version": "1.2.0",
            "_view_name": "StyleView",
            "bar_color": null,
            "description_width": ""
          }
        },
        "f6a0a87b0d604d2abca29031da010949": {
          "model_module": "@jupyter-widgets/base",
          "model_name": "LayoutModel",
          "model_module_version": "1.2.0",
          "state": {
            "_model_module": "@jupyter-widgets/base",
            "_model_module_version": "1.2.0",
            "_model_name": "LayoutModel",
            "_view_count": null,
            "_view_module": "@jupyter-widgets/base",
            "_view_module_version": "1.2.0",
            "_view_name": "LayoutView",
            "align_content": null,
            "align_items": null,
            "align_self": null,
            "border": null,
            "bottom": null,
            "display": null,
            "flex": null,
            "flex_flow": null,
            "grid_area": null,
            "grid_auto_columns": null,
            "grid_auto_flow": null,
            "grid_auto_rows": null,
            "grid_column": null,
            "grid_gap": null,
            "grid_row": null,
            "grid_template_areas": null,
            "grid_template_columns": null,
            "grid_template_rows": null,
            "height": null,
            "justify_content": null,
            "justify_items": null,
            "left": null,
            "margin": null,
            "max_height": null,
            "max_width": null,
            "min_height": null,
            "min_width": null,
            "object_fit": null,
            "object_position": null,
            "order": null,
            "overflow": null,
            "overflow_x": null,
            "overflow_y": null,
            "padding": null,
            "right": null,
            "top": null,
            "visibility": null,
            "width": null
          }
        },
        "f1334fb071964eee807f0bd786681de3": {
          "model_module": "@jupyter-widgets/controls",
          "model_name": "DescriptionStyleModel",
          "model_module_version": "1.5.0",
          "state": {
            "_model_module": "@jupyter-widgets/controls",
            "_model_module_version": "1.5.0",
            "_model_name": "DescriptionStyleModel",
            "_view_count": null,
            "_view_module": "@jupyter-widgets/base",
            "_view_module_version": "1.2.0",
            "_view_name": "StyleView",
            "description_width": ""
          }
        },
        "d06e9ed692404b02b76347ea0dcb2514": {
          "model_module": "@jupyter-widgets/controls",
          "model_name": "HBoxModel",
          "model_module_version": "1.5.0",
          "state": {
            "_dom_classes": [],
            "_model_module": "@jupyter-widgets/controls",
            "_model_module_version": "1.5.0",
            "_model_name": "HBoxModel",
            "_view_count": null,
            "_view_module": "@jupyter-widgets/controls",
            "_view_module_version": "1.5.0",
            "_view_name": "HBoxView",
            "box_style": "",
            "children": [
              "IPY_MODEL_3b1dbf6ea59d4dae90300689bee8670a",
              "IPY_MODEL_1e95ac0a11b745149f8025aae8be347e",
              "IPY_MODEL_53316f5ebec245b8bb20f10c85b7e5e9"
            ],
            "layout": "IPY_MODEL_f85361c1195a41d7b649f4c96b317f86"
          }
        },
        "3b1dbf6ea59d4dae90300689bee8670a": {
          "model_module": "@jupyter-widgets/controls",
          "model_name": "HTMLModel",
          "model_module_version": "1.5.0",
          "state": {
            "_dom_classes": [],
            "_model_module": "@jupyter-widgets/controls",
            "_model_module_version": "1.5.0",
            "_model_name": "HTMLModel",
            "_view_count": null,
            "_view_module": "@jupyter-widgets/controls",
            "_view_module_version": "1.5.0",
            "_view_name": "HTMLView",
            "description": "",
            "description_tooltip": null,
            "layout": "IPY_MODEL_45f58783dda245dbab27117899c6a6a8",
            "placeholder": "​",
            "style": "IPY_MODEL_4c27a273124f4564b3984df918c6ab70",
            "value": "100%"
          }
        },
        "1e95ac0a11b745149f8025aae8be347e": {
          "model_module": "@jupyter-widgets/controls",
          "model_name": "FloatProgressModel",
          "model_module_version": "1.5.0",
          "state": {
            "_dom_classes": [],
            "_model_module": "@jupyter-widgets/controls",
            "_model_module_version": "1.5.0",
            "_model_name": "FloatProgressModel",
            "_view_count": null,
            "_view_module": "@jupyter-widgets/controls",
            "_view_module_version": "1.5.0",
            "_view_name": "ProgressView",
            "bar_style": "success",
            "description": "",
            "description_tooltip": null,
            "layout": "IPY_MODEL_d2e1a1dccd884082be7d6e322c6c6a55",
            "max": 28881,
            "min": 0,
            "orientation": "horizontal",
            "style": "IPY_MODEL_10dda7d819dd45d494ac25b731ce88ef",
            "value": 28881
          }
        },
        "53316f5ebec245b8bb20f10c85b7e5e9": {
          "model_module": "@jupyter-widgets/controls",
          "model_name": "HTMLModel",
          "model_module_version": "1.5.0",
          "state": {
            "_dom_classes": [],
            "_model_module": "@jupyter-widgets/controls",
            "_model_module_version": "1.5.0",
            "_model_name": "HTMLModel",
            "_view_count": null,
            "_view_module": "@jupyter-widgets/controls",
            "_view_module_version": "1.5.0",
            "_view_name": "HTMLView",
            "description": "",
            "description_tooltip": null,
            "layout": "IPY_MODEL_381585200edb46d38da18835d651a9f2",
            "placeholder": "​",
            "style": "IPY_MODEL_fba0985ec51745b88c04709302365b83",
            "value": " 28881/28881 [00:00&lt;00:00, 456440.64it/s]"
          }
        },
        "f85361c1195a41d7b649f4c96b317f86": {
          "model_module": "@jupyter-widgets/base",
          "model_name": "LayoutModel",
          "model_module_version": "1.2.0",
          "state": {
            "_model_module": "@jupyter-widgets/base",
            "_model_module_version": "1.2.0",
            "_model_name": "LayoutModel",
            "_view_count": null,
            "_view_module": "@jupyter-widgets/base",
            "_view_module_version": "1.2.0",
            "_view_name": "LayoutView",
            "align_content": null,
            "align_items": null,
            "align_self": null,
            "border": null,
            "bottom": null,
            "display": null,
            "flex": null,
            "flex_flow": null,
            "grid_area": null,
            "grid_auto_columns": null,
            "grid_auto_flow": null,
            "grid_auto_rows": null,
            "grid_column": null,
            "grid_gap": null,
            "grid_row": null,
            "grid_template_areas": null,
            "grid_template_columns": null,
            "grid_template_rows": null,
            "height": null,
            "justify_content": null,
            "justify_items": null,
            "left": null,
            "margin": null,
            "max_height": null,
            "max_width": null,
            "min_height": null,
            "min_width": null,
            "object_fit": null,
            "object_position": null,
            "order": null,
            "overflow": null,
            "overflow_x": null,
            "overflow_y": null,
            "padding": null,
            "right": null,
            "top": null,
            "visibility": null,
            "width": null
          }
        },
        "45f58783dda245dbab27117899c6a6a8": {
          "model_module": "@jupyter-widgets/base",
          "model_name": "LayoutModel",
          "model_module_version": "1.2.0",
          "state": {
            "_model_module": "@jupyter-widgets/base",
            "_model_module_version": "1.2.0",
            "_model_name": "LayoutModel",
            "_view_count": null,
            "_view_module": "@jupyter-widgets/base",
            "_view_module_version": "1.2.0",
            "_view_name": "LayoutView",
            "align_content": null,
            "align_items": null,
            "align_self": null,
            "border": null,
            "bottom": null,
            "display": null,
            "flex": null,
            "flex_flow": null,
            "grid_area": null,
            "grid_auto_columns": null,
            "grid_auto_flow": null,
            "grid_auto_rows": null,
            "grid_column": null,
            "grid_gap": null,
            "grid_row": null,
            "grid_template_areas": null,
            "grid_template_columns": null,
            "grid_template_rows": null,
            "height": null,
            "justify_content": null,
            "justify_items": null,
            "left": null,
            "margin": null,
            "max_height": null,
            "max_width": null,
            "min_height": null,
            "min_width": null,
            "object_fit": null,
            "object_position": null,
            "order": null,
            "overflow": null,
            "overflow_x": null,
            "overflow_y": null,
            "padding": null,
            "right": null,
            "top": null,
            "visibility": null,
            "width": null
          }
        },
        "4c27a273124f4564b3984df918c6ab70": {
          "model_module": "@jupyter-widgets/controls",
          "model_name": "DescriptionStyleModel",
          "model_module_version": "1.5.0",
          "state": {
            "_model_module": "@jupyter-widgets/controls",
            "_model_module_version": "1.5.0",
            "_model_name": "DescriptionStyleModel",
            "_view_count": null,
            "_view_module": "@jupyter-widgets/base",
            "_view_module_version": "1.2.0",
            "_view_name": "StyleView",
            "description_width": ""
          }
        },
        "d2e1a1dccd884082be7d6e322c6c6a55": {
          "model_module": "@jupyter-widgets/base",
          "model_name": "LayoutModel",
          "model_module_version": "1.2.0",
          "state": {
            "_model_module": "@jupyter-widgets/base",
            "_model_module_version": "1.2.0",
            "_model_name": "LayoutModel",
            "_view_count": null,
            "_view_module": "@jupyter-widgets/base",
            "_view_module_version": "1.2.0",
            "_view_name": "LayoutView",
            "align_content": null,
            "align_items": null,
            "align_self": null,
            "border": null,
            "bottom": null,
            "display": null,
            "flex": null,
            "flex_flow": null,
            "grid_area": null,
            "grid_auto_columns": null,
            "grid_auto_flow": null,
            "grid_auto_rows": null,
            "grid_column": null,
            "grid_gap": null,
            "grid_row": null,
            "grid_template_areas": null,
            "grid_template_columns": null,
            "grid_template_rows": null,
            "height": null,
            "justify_content": null,
            "justify_items": null,
            "left": null,
            "margin": null,
            "max_height": null,
            "max_width": null,
            "min_height": null,
            "min_width": null,
            "object_fit": null,
            "object_position": null,
            "order": null,
            "overflow": null,
            "overflow_x": null,
            "overflow_y": null,
            "padding": null,
            "right": null,
            "top": null,
            "visibility": null,
            "width": null
          }
        },
        "10dda7d819dd45d494ac25b731ce88ef": {
          "model_module": "@jupyter-widgets/controls",
          "model_name": "ProgressStyleModel",
          "model_module_version": "1.5.0",
          "state": {
            "_model_module": "@jupyter-widgets/controls",
            "_model_module_version": "1.5.0",
            "_model_name": "ProgressStyleModel",
            "_view_count": null,
            "_view_module": "@jupyter-widgets/base",
            "_view_module_version": "1.2.0",
            "_view_name": "StyleView",
            "bar_color": null,
            "description_width": ""
          }
        },
        "381585200edb46d38da18835d651a9f2": {
          "model_module": "@jupyter-widgets/base",
          "model_name": "LayoutModel",
          "model_module_version": "1.2.0",
          "state": {
            "_model_module": "@jupyter-widgets/base",
            "_model_module_version": "1.2.0",
            "_model_name": "LayoutModel",
            "_view_count": null,
            "_view_module": "@jupyter-widgets/base",
            "_view_module_version": "1.2.0",
            "_view_name": "LayoutView",
            "align_content": null,
            "align_items": null,
            "align_self": null,
            "border": null,
            "bottom": null,
            "display": null,
            "flex": null,
            "flex_flow": null,
            "grid_area": null,
            "grid_auto_columns": null,
            "grid_auto_flow": null,
            "grid_auto_rows": null,
            "grid_column": null,
            "grid_gap": null,
            "grid_row": null,
            "grid_template_areas": null,
            "grid_template_columns": null,
            "grid_template_rows": null,
            "height": null,
            "justify_content": null,
            "justify_items": null,
            "left": null,
            "margin": null,
            "max_height": null,
            "max_width": null,
            "min_height": null,
            "min_width": null,
            "object_fit": null,
            "object_position": null,
            "order": null,
            "overflow": null,
            "overflow_x": null,
            "overflow_y": null,
            "padding": null,
            "right": null,
            "top": null,
            "visibility": null,
            "width": null
          }
        },
        "fba0985ec51745b88c04709302365b83": {
          "model_module": "@jupyter-widgets/controls",
          "model_name": "DescriptionStyleModel",
          "model_module_version": "1.5.0",
          "state": {
            "_model_module": "@jupyter-widgets/controls",
            "_model_module_version": "1.5.0",
            "_model_name": "DescriptionStyleModel",
            "_view_count": null,
            "_view_module": "@jupyter-widgets/base",
            "_view_module_version": "1.2.0",
            "_view_name": "StyleView",
            "description_width": ""
          }
        },
        "ae136402e4c24aaca6395b1f2ca50297": {
          "model_module": "@jupyter-widgets/controls",
          "model_name": "HBoxModel",
          "model_module_version": "1.5.0",
          "state": {
            "_dom_classes": [],
            "_model_module": "@jupyter-widgets/controls",
            "_model_module_version": "1.5.0",
            "_model_name": "HBoxModel",
            "_view_count": null,
            "_view_module": "@jupyter-widgets/controls",
            "_view_module_version": "1.5.0",
            "_view_name": "HBoxView",
            "box_style": "",
            "children": [
              "IPY_MODEL_2f2930f5e8954bc4834cbdd6bfef7b9b",
              "IPY_MODEL_868193954d9e4baa8451646f2de2594b",
              "IPY_MODEL_9bb3aed341ee484dab9e8e127cced983"
            ],
            "layout": "IPY_MODEL_48bc64bd6fe447599faba10d78ee590a"
          }
        },
        "2f2930f5e8954bc4834cbdd6bfef7b9b": {
          "model_module": "@jupyter-widgets/controls",
          "model_name": "HTMLModel",
          "model_module_version": "1.5.0",
          "state": {
            "_dom_classes": [],
            "_model_module": "@jupyter-widgets/controls",
            "_model_module_version": "1.5.0",
            "_model_name": "HTMLModel",
            "_view_count": null,
            "_view_module": "@jupyter-widgets/controls",
            "_view_module_version": "1.5.0",
            "_view_name": "HTMLView",
            "description": "",
            "description_tooltip": null,
            "layout": "IPY_MODEL_72d457cef78e4ed8b99f4f376cc3573f",
            "placeholder": "​",
            "style": "IPY_MODEL_ef31b64c688e4bd0ac31af39e41e534a",
            "value": "100%"
          }
        },
        "868193954d9e4baa8451646f2de2594b": {
          "model_module": "@jupyter-widgets/controls",
          "model_name": "FloatProgressModel",
          "model_module_version": "1.5.0",
          "state": {
            "_dom_classes": [],
            "_model_module": "@jupyter-widgets/controls",
            "_model_module_version": "1.5.0",
            "_model_name": "FloatProgressModel",
            "_view_count": null,
            "_view_module": "@jupyter-widgets/controls",
            "_view_module_version": "1.5.0",
            "_view_name": "ProgressView",
            "bar_style": "success",
            "description": "",
            "description_tooltip": null,
            "layout": "IPY_MODEL_f857a80a92734277bd823702c782a292",
            "max": 1648877,
            "min": 0,
            "orientation": "horizontal",
            "style": "IPY_MODEL_6ff54d5e517c42e39b042c7d25bb57bf",
            "value": 1648877
          }
        },
        "9bb3aed341ee484dab9e8e127cced983": {
          "model_module": "@jupyter-widgets/controls",
          "model_name": "HTMLModel",
          "model_module_version": "1.5.0",
          "state": {
            "_dom_classes": [],
            "_model_module": "@jupyter-widgets/controls",
            "_model_module_version": "1.5.0",
            "_model_name": "HTMLModel",
            "_view_count": null,
            "_view_module": "@jupyter-widgets/controls",
            "_view_module_version": "1.5.0",
            "_view_name": "HTMLView",
            "description": "",
            "description_tooltip": null,
            "layout": "IPY_MODEL_4dcb8ac484dd45cfaa7433fa1a8dfb74",
            "placeholder": "​",
            "style": "IPY_MODEL_71c78eaa14c44348b5378e1e9736cb73",
            "value": " 1648877/1648877 [00:00&lt;00:00, 3625098.34it/s]"
          }
        },
        "48bc64bd6fe447599faba10d78ee590a": {
          "model_module": "@jupyter-widgets/base",
          "model_name": "LayoutModel",
          "model_module_version": "1.2.0",
          "state": {
            "_model_module": "@jupyter-widgets/base",
            "_model_module_version": "1.2.0",
            "_model_name": "LayoutModel",
            "_view_count": null,
            "_view_module": "@jupyter-widgets/base",
            "_view_module_version": "1.2.0",
            "_view_name": "LayoutView",
            "align_content": null,
            "align_items": null,
            "align_self": null,
            "border": null,
            "bottom": null,
            "display": null,
            "flex": null,
            "flex_flow": null,
            "grid_area": null,
            "grid_auto_columns": null,
            "grid_auto_flow": null,
            "grid_auto_rows": null,
            "grid_column": null,
            "grid_gap": null,
            "grid_row": null,
            "grid_template_areas": null,
            "grid_template_columns": null,
            "grid_template_rows": null,
            "height": null,
            "justify_content": null,
            "justify_items": null,
            "left": null,
            "margin": null,
            "max_height": null,
            "max_width": null,
            "min_height": null,
            "min_width": null,
            "object_fit": null,
            "object_position": null,
            "order": null,
            "overflow": null,
            "overflow_x": null,
            "overflow_y": null,
            "padding": null,
            "right": null,
            "top": null,
            "visibility": null,
            "width": null
          }
        },
        "72d457cef78e4ed8b99f4f376cc3573f": {
          "model_module": "@jupyter-widgets/base",
          "model_name": "LayoutModel",
          "model_module_version": "1.2.0",
          "state": {
            "_model_module": "@jupyter-widgets/base",
            "_model_module_version": "1.2.0",
            "_model_name": "LayoutModel",
            "_view_count": null,
            "_view_module": "@jupyter-widgets/base",
            "_view_module_version": "1.2.0",
            "_view_name": "LayoutView",
            "align_content": null,
            "align_items": null,
            "align_self": null,
            "border": null,
            "bottom": null,
            "display": null,
            "flex": null,
            "flex_flow": null,
            "grid_area": null,
            "grid_auto_columns": null,
            "grid_auto_flow": null,
            "grid_auto_rows": null,
            "grid_column": null,
            "grid_gap": null,
            "grid_row": null,
            "grid_template_areas": null,
            "grid_template_columns": null,
            "grid_template_rows": null,
            "height": null,
            "justify_content": null,
            "justify_items": null,
            "left": null,
            "margin": null,
            "max_height": null,
            "max_width": null,
            "min_height": null,
            "min_width": null,
            "object_fit": null,
            "object_position": null,
            "order": null,
            "overflow": null,
            "overflow_x": null,
            "overflow_y": null,
            "padding": null,
            "right": null,
            "top": null,
            "visibility": null,
            "width": null
          }
        },
        "ef31b64c688e4bd0ac31af39e41e534a": {
          "model_module": "@jupyter-widgets/controls",
          "model_name": "DescriptionStyleModel",
          "model_module_version": "1.5.0",
          "state": {
            "_model_module": "@jupyter-widgets/controls",
            "_model_module_version": "1.5.0",
            "_model_name": "DescriptionStyleModel",
            "_view_count": null,
            "_view_module": "@jupyter-widgets/base",
            "_view_module_version": "1.2.0",
            "_view_name": "StyleView",
            "description_width": ""
          }
        },
        "f857a80a92734277bd823702c782a292": {
          "model_module": "@jupyter-widgets/base",
          "model_name": "LayoutModel",
          "model_module_version": "1.2.0",
          "state": {
            "_model_module": "@jupyter-widgets/base",
            "_model_module_version": "1.2.0",
            "_model_name": "LayoutModel",
            "_view_count": null,
            "_view_module": "@jupyter-widgets/base",
            "_view_module_version": "1.2.0",
            "_view_name": "LayoutView",
            "align_content": null,
            "align_items": null,
            "align_self": null,
            "border": null,
            "bottom": null,
            "display": null,
            "flex": null,
            "flex_flow": null,
            "grid_area": null,
            "grid_auto_columns": null,
            "grid_auto_flow": null,
            "grid_auto_rows": null,
            "grid_column": null,
            "grid_gap": null,
            "grid_row": null,
            "grid_template_areas": null,
            "grid_template_columns": null,
            "grid_template_rows": null,
            "height": null,
            "justify_content": null,
            "justify_items": null,
            "left": null,
            "margin": null,
            "max_height": null,
            "max_width": null,
            "min_height": null,
            "min_width": null,
            "object_fit": null,
            "object_position": null,
            "order": null,
            "overflow": null,
            "overflow_x": null,
            "overflow_y": null,
            "padding": null,
            "right": null,
            "top": null,
            "visibility": null,
            "width": null
          }
        },
        "6ff54d5e517c42e39b042c7d25bb57bf": {
          "model_module": "@jupyter-widgets/controls",
          "model_name": "ProgressStyleModel",
          "model_module_version": "1.5.0",
          "state": {
            "_model_module": "@jupyter-widgets/controls",
            "_model_module_version": "1.5.0",
            "_model_name": "ProgressStyleModel",
            "_view_count": null,
            "_view_module": "@jupyter-widgets/base",
            "_view_module_version": "1.2.0",
            "_view_name": "StyleView",
            "bar_color": null,
            "description_width": ""
          }
        },
        "4dcb8ac484dd45cfaa7433fa1a8dfb74": {
          "model_module": "@jupyter-widgets/base",
          "model_name": "LayoutModel",
          "model_module_version": "1.2.0",
          "state": {
            "_model_module": "@jupyter-widgets/base",
            "_model_module_version": "1.2.0",
            "_model_name": "LayoutModel",
            "_view_count": null,
            "_view_module": "@jupyter-widgets/base",
            "_view_module_version": "1.2.0",
            "_view_name": "LayoutView",
            "align_content": null,
            "align_items": null,
            "align_self": null,
            "border": null,
            "bottom": null,
            "display": null,
            "flex": null,
            "flex_flow": null,
            "grid_area": null,
            "grid_auto_columns": null,
            "grid_auto_flow": null,
            "grid_auto_rows": null,
            "grid_column": null,
            "grid_gap": null,
            "grid_row": null,
            "grid_template_areas": null,
            "grid_template_columns": null,
            "grid_template_rows": null,
            "height": null,
            "justify_content": null,
            "justify_items": null,
            "left": null,
            "margin": null,
            "max_height": null,
            "max_width": null,
            "min_height": null,
            "min_width": null,
            "object_fit": null,
            "object_position": null,
            "order": null,
            "overflow": null,
            "overflow_x": null,
            "overflow_y": null,
            "padding": null,
            "right": null,
            "top": null,
            "visibility": null,
            "width": null
          }
        },
        "71c78eaa14c44348b5378e1e9736cb73": {
          "model_module": "@jupyter-widgets/controls",
          "model_name": "DescriptionStyleModel",
          "model_module_version": "1.5.0",
          "state": {
            "_model_module": "@jupyter-widgets/controls",
            "_model_module_version": "1.5.0",
            "_model_name": "DescriptionStyleModel",
            "_view_count": null,
            "_view_module": "@jupyter-widgets/base",
            "_view_module_version": "1.2.0",
            "_view_name": "StyleView",
            "description_width": ""
          }
        },
        "bf99098a316e4f5994705e17042a1b11": {
          "model_module": "@jupyter-widgets/controls",
          "model_name": "HBoxModel",
          "model_module_version": "1.5.0",
          "state": {
            "_dom_classes": [],
            "_model_module": "@jupyter-widgets/controls",
            "_model_module_version": "1.5.0",
            "_model_name": "HBoxModel",
            "_view_count": null,
            "_view_module": "@jupyter-widgets/controls",
            "_view_module_version": "1.5.0",
            "_view_name": "HBoxView",
            "box_style": "",
            "children": [
              "IPY_MODEL_de279c8129254bc8a1c1579a56e83fd0",
              "IPY_MODEL_a26a7508ac5d474db59a22356e4d0d40",
              "IPY_MODEL_07afcc97a20a4e93b72b66f2d6e87dd3"
            ],
            "layout": "IPY_MODEL_08da3a49c2d74041adc80969ea75ba99"
          }
        },
        "de279c8129254bc8a1c1579a56e83fd0": {
          "model_module": "@jupyter-widgets/controls",
          "model_name": "HTMLModel",
          "model_module_version": "1.5.0",
          "state": {
            "_dom_classes": [],
            "_model_module": "@jupyter-widgets/controls",
            "_model_module_version": "1.5.0",
            "_model_name": "HTMLModel",
            "_view_count": null,
            "_view_module": "@jupyter-widgets/controls",
            "_view_module_version": "1.5.0",
            "_view_name": "HTMLView",
            "description": "",
            "description_tooltip": null,
            "layout": "IPY_MODEL_a5cb4f1514144f2bb908b9130fcc5c14",
            "placeholder": "​",
            "style": "IPY_MODEL_960fe2d5be4d472983875f785bb9dd73",
            "value": "100%"
          }
        },
        "a26a7508ac5d474db59a22356e4d0d40": {
          "model_module": "@jupyter-widgets/controls",
          "model_name": "FloatProgressModel",
          "model_module_version": "1.5.0",
          "state": {
            "_dom_classes": [],
            "_model_module": "@jupyter-widgets/controls",
            "_model_module_version": "1.5.0",
            "_model_name": "FloatProgressModel",
            "_view_count": null,
            "_view_module": "@jupyter-widgets/controls",
            "_view_module_version": "1.5.0",
            "_view_name": "ProgressView",
            "bar_style": "success",
            "description": "",
            "description_tooltip": null,
            "layout": "IPY_MODEL_b165f33117dd43f7af64913b7ae85cc8",
            "max": 4542,
            "min": 0,
            "orientation": "horizontal",
            "style": "IPY_MODEL_119c4d26f40c4e8e9838d6e5ee77afd3",
            "value": 4542
          }
        },
        "07afcc97a20a4e93b72b66f2d6e87dd3": {
          "model_module": "@jupyter-widgets/controls",
          "model_name": "HTMLModel",
          "model_module_version": "1.5.0",
          "state": {
            "_dom_classes": [],
            "_model_module": "@jupyter-widgets/controls",
            "_model_module_version": "1.5.0",
            "_model_name": "HTMLModel",
            "_view_count": null,
            "_view_module": "@jupyter-widgets/controls",
            "_view_module_version": "1.5.0",
            "_view_name": "HTMLView",
            "description": "",
            "description_tooltip": null,
            "layout": "IPY_MODEL_68646d43b4054b22b2a1d3d3552c4c8e",
            "placeholder": "​",
            "style": "IPY_MODEL_253c0ffd2aa4480ab1cad345e5a71166",
            "value": " 4542/4542 [00:00&lt;00:00, 92051.55it/s]"
          }
        },
        "08da3a49c2d74041adc80969ea75ba99": {
          "model_module": "@jupyter-widgets/base",
          "model_name": "LayoutModel",
          "model_module_version": "1.2.0",
          "state": {
            "_model_module": "@jupyter-widgets/base",
            "_model_module_version": "1.2.0",
            "_model_name": "LayoutModel",
            "_view_count": null,
            "_view_module": "@jupyter-widgets/base",
            "_view_module_version": "1.2.0",
            "_view_name": "LayoutView",
            "align_content": null,
            "align_items": null,
            "align_self": null,
            "border": null,
            "bottom": null,
            "display": null,
            "flex": null,
            "flex_flow": null,
            "grid_area": null,
            "grid_auto_columns": null,
            "grid_auto_flow": null,
            "grid_auto_rows": null,
            "grid_column": null,
            "grid_gap": null,
            "grid_row": null,
            "grid_template_areas": null,
            "grid_template_columns": null,
            "grid_template_rows": null,
            "height": null,
            "justify_content": null,
            "justify_items": null,
            "left": null,
            "margin": null,
            "max_height": null,
            "max_width": null,
            "min_height": null,
            "min_width": null,
            "object_fit": null,
            "object_position": null,
            "order": null,
            "overflow": null,
            "overflow_x": null,
            "overflow_y": null,
            "padding": null,
            "right": null,
            "top": null,
            "visibility": null,
            "width": null
          }
        },
        "a5cb4f1514144f2bb908b9130fcc5c14": {
          "model_module": "@jupyter-widgets/base",
          "model_name": "LayoutModel",
          "model_module_version": "1.2.0",
          "state": {
            "_model_module": "@jupyter-widgets/base",
            "_model_module_version": "1.2.0",
            "_model_name": "LayoutModel",
            "_view_count": null,
            "_view_module": "@jupyter-widgets/base",
            "_view_module_version": "1.2.0",
            "_view_name": "LayoutView",
            "align_content": null,
            "align_items": null,
            "align_self": null,
            "border": null,
            "bottom": null,
            "display": null,
            "flex": null,
            "flex_flow": null,
            "grid_area": null,
            "grid_auto_columns": null,
            "grid_auto_flow": null,
            "grid_auto_rows": null,
            "grid_column": null,
            "grid_gap": null,
            "grid_row": null,
            "grid_template_areas": null,
            "grid_template_columns": null,
            "grid_template_rows": null,
            "height": null,
            "justify_content": null,
            "justify_items": null,
            "left": null,
            "margin": null,
            "max_height": null,
            "max_width": null,
            "min_height": null,
            "min_width": null,
            "object_fit": null,
            "object_position": null,
            "order": null,
            "overflow": null,
            "overflow_x": null,
            "overflow_y": null,
            "padding": null,
            "right": null,
            "top": null,
            "visibility": null,
            "width": null
          }
        },
        "960fe2d5be4d472983875f785bb9dd73": {
          "model_module": "@jupyter-widgets/controls",
          "model_name": "DescriptionStyleModel",
          "model_module_version": "1.5.0",
          "state": {
            "_model_module": "@jupyter-widgets/controls",
            "_model_module_version": "1.5.0",
            "_model_name": "DescriptionStyleModel",
            "_view_count": null,
            "_view_module": "@jupyter-widgets/base",
            "_view_module_version": "1.2.0",
            "_view_name": "StyleView",
            "description_width": ""
          }
        },
        "b165f33117dd43f7af64913b7ae85cc8": {
          "model_module": "@jupyter-widgets/base",
          "model_name": "LayoutModel",
          "model_module_version": "1.2.0",
          "state": {
            "_model_module": "@jupyter-widgets/base",
            "_model_module_version": "1.2.0",
            "_model_name": "LayoutModel",
            "_view_count": null,
            "_view_module": "@jupyter-widgets/base",
            "_view_module_version": "1.2.0",
            "_view_name": "LayoutView",
            "align_content": null,
            "align_items": null,
            "align_self": null,
            "border": null,
            "bottom": null,
            "display": null,
            "flex": null,
            "flex_flow": null,
            "grid_area": null,
            "grid_auto_columns": null,
            "grid_auto_flow": null,
            "grid_auto_rows": null,
            "grid_column": null,
            "grid_gap": null,
            "grid_row": null,
            "grid_template_areas": null,
            "grid_template_columns": null,
            "grid_template_rows": null,
            "height": null,
            "justify_content": null,
            "justify_items": null,
            "left": null,
            "margin": null,
            "max_height": null,
            "max_width": null,
            "min_height": null,
            "min_width": null,
            "object_fit": null,
            "object_position": null,
            "order": null,
            "overflow": null,
            "overflow_x": null,
            "overflow_y": null,
            "padding": null,
            "right": null,
            "top": null,
            "visibility": null,
            "width": null
          }
        },
        "119c4d26f40c4e8e9838d6e5ee77afd3": {
          "model_module": "@jupyter-widgets/controls",
          "model_name": "ProgressStyleModel",
          "model_module_version": "1.5.0",
          "state": {
            "_model_module": "@jupyter-widgets/controls",
            "_model_module_version": "1.5.0",
            "_model_name": "ProgressStyleModel",
            "_view_count": null,
            "_view_module": "@jupyter-widgets/base",
            "_view_module_version": "1.2.0",
            "_view_name": "StyleView",
            "bar_color": null,
            "description_width": ""
          }
        },
        "68646d43b4054b22b2a1d3d3552c4c8e": {
          "model_module": "@jupyter-widgets/base",
          "model_name": "LayoutModel",
          "model_module_version": "1.2.0",
          "state": {
            "_model_module": "@jupyter-widgets/base",
            "_model_module_version": "1.2.0",
            "_model_name": "LayoutModel",
            "_view_count": null,
            "_view_module": "@jupyter-widgets/base",
            "_view_module_version": "1.2.0",
            "_view_name": "LayoutView",
            "align_content": null,
            "align_items": null,
            "align_self": null,
            "border": null,
            "bottom": null,
            "display": null,
            "flex": null,
            "flex_flow": null,
            "grid_area": null,
            "grid_auto_columns": null,
            "grid_auto_flow": null,
            "grid_auto_rows": null,
            "grid_column": null,
            "grid_gap": null,
            "grid_row": null,
            "grid_template_areas": null,
            "grid_template_columns": null,
            "grid_template_rows": null,
            "height": null,
            "justify_content": null,
            "justify_items": null,
            "left": null,
            "margin": null,
            "max_height": null,
            "max_width": null,
            "min_height": null,
            "min_width": null,
            "object_fit": null,
            "object_position": null,
            "order": null,
            "overflow": null,
            "overflow_x": null,
            "overflow_y": null,
            "padding": null,
            "right": null,
            "top": null,
            "visibility": null,
            "width": null
          }
        },
        "253c0ffd2aa4480ab1cad345e5a71166": {
          "model_module": "@jupyter-widgets/controls",
          "model_name": "DescriptionStyleModel",
          "model_module_version": "1.5.0",
          "state": {
            "_model_module": "@jupyter-widgets/controls",
            "_model_module_version": "1.5.0",
            "_model_name": "DescriptionStyleModel",
            "_view_count": null,
            "_view_module": "@jupyter-widgets/base",
            "_view_module_version": "1.2.0",
            "_view_name": "StyleView",
            "description_width": ""
          }
        }
      }
    }
  },
  "cells": [
    {
      "cell_type": "code",
      "execution_count": 1,
      "metadata": {
        "id": "l-LYn83wj3il"
      },
      "outputs": [],
      "source": [
        "import numpy as np\n",
        "import torch\n",
        "import torch.nn as nn\n",
        "import torchvision\n",
        "\n",
        "import matplotlib.pyplot as plt\n",
        "from tqdm import tqdm"
      ]
    },
    {
      "cell_type": "code",
      "source": [
        "def plot_latent(h, t_class):\n",
        "    '''\n",
        "     plot_latent(h, t_class)\n",
        "     Plots the 2D points in h, coloured according to their class.\n",
        "    '''\n",
        "    colours = ['pink', 'r', 'orange', 'tab:brown', 'y', 'g', 'teal', 'b', \\\n",
        "               'mediumpurple', 'gray', 'b']\n",
        "\n",
        "    plt.figure(figsize=(7,6))\n",
        "    for c in range(10):\n",
        "        hh = h[t_class==c]\n",
        "        if len(hh)>0:\n",
        "            plt.scatter(hh[:,0], hh[:,1], c=colours[c], label=f'{c}')\n",
        "    plt.axis('square');\n",
        "    plt.legend(loc=(1.02, 0.5))\n",
        "    plt.tight_layout();"
      ],
      "metadata": {
        "id": "bCNoJp24mA7D"
      },
      "execution_count": 2,
      "outputs": []
    },
    {
      "cell_type": "code",
      "source": [
        "# You can change img_size to 14 if you want to use smaller (14x14) images.\n",
        "img_size = 28\n",
        "\n",
        "ds_full = torchvision.datasets.MNIST('./files/', train=True, download=True,\n",
        "                            transform=torchvision.transforms.Compose([\n",
        "                            torchvision.transforms.Resize((img_size,img_size)),\n",
        "                            torchvision.transforms.ToTensor(),\n",
        "                            torchvision.transforms.Lambda((lambda x: torch.flatten(x))),\n",
        "                            ]))"
      ],
      "metadata": {
        "colab": {
          "base_uri": "https://localhost:8080/",
          "height": 449,
          "referenced_widgets": [
            "ab4c038678974a7e848d47197bd92665",
            "430a8fa6825e4e07aa02e07452cde8c3",
            "24552b2df70d4af5bb9f24dcc17fc383",
            "d03a770a386e461798a7559dab405e4c",
            "3ab048b01f924e3ba9a4572078ae7d34",
            "72a2e458d8f24ff3a7bcac2e6f935ef8",
            "a7f7f73f3d58427eb12a671d8cb92e94",
            "ca44e4bc74a741b19a3542eaf18625ed",
            "aacd4ce474384d42a4300cd80eb17edb",
            "f6a0a87b0d604d2abca29031da010949",
            "f1334fb071964eee807f0bd786681de3",
            "d06e9ed692404b02b76347ea0dcb2514",
            "3b1dbf6ea59d4dae90300689bee8670a",
            "1e95ac0a11b745149f8025aae8be347e",
            "53316f5ebec245b8bb20f10c85b7e5e9",
            "f85361c1195a41d7b649f4c96b317f86",
            "45f58783dda245dbab27117899c6a6a8",
            "4c27a273124f4564b3984df918c6ab70",
            "d2e1a1dccd884082be7d6e322c6c6a55",
            "10dda7d819dd45d494ac25b731ce88ef",
            "381585200edb46d38da18835d651a9f2",
            "fba0985ec51745b88c04709302365b83",
            "ae136402e4c24aaca6395b1f2ca50297",
            "2f2930f5e8954bc4834cbdd6bfef7b9b",
            "868193954d9e4baa8451646f2de2594b",
            "9bb3aed341ee484dab9e8e127cced983",
            "48bc64bd6fe447599faba10d78ee590a",
            "72d457cef78e4ed8b99f4f376cc3573f",
            "ef31b64c688e4bd0ac31af39e41e534a",
            "f857a80a92734277bd823702c782a292",
            "6ff54d5e517c42e39b042c7d25bb57bf",
            "4dcb8ac484dd45cfaa7433fa1a8dfb74",
            "71c78eaa14c44348b5378e1e9736cb73",
            "bf99098a316e4f5994705e17042a1b11",
            "de279c8129254bc8a1c1579a56e83fd0",
            "a26a7508ac5d474db59a22356e4d0d40",
            "07afcc97a20a4e93b72b66f2d6e87dd3",
            "08da3a49c2d74041adc80969ea75ba99",
            "a5cb4f1514144f2bb908b9130fcc5c14",
            "960fe2d5be4d472983875f785bb9dd73",
            "b165f33117dd43f7af64913b7ae85cc8",
            "119c4d26f40c4e8e9838d6e5ee77afd3",
            "68646d43b4054b22b2a1d3d3552c4c8e",
            "253c0ffd2aa4480ab1cad345e5a71166"
          ]
        },
        "id": "qHWlrkuOmE7p",
        "outputId": "f7982092-b821-4715-c18e-db6fa497da42"
      },
      "execution_count": 3,
      "outputs": [
        {
          "output_type": "stream",
          "name": "stdout",
          "text": [
            "Downloading http://yann.lecun.com/exdb/mnist/train-images-idx3-ubyte.gz\n",
            "Downloading http://yann.lecun.com/exdb/mnist/train-images-idx3-ubyte.gz to ./files/MNIST/raw/train-images-idx3-ubyte.gz\n"
          ]
        },
        {
          "output_type": "display_data",
          "data": {
            "text/plain": [
              "  0%|          | 0/9912422 [00:00<?, ?it/s]"
            ],
            "application/vnd.jupyter.widget-view+json": {
              "version_major": 2,
              "version_minor": 0,
              "model_id": "ab4c038678974a7e848d47197bd92665"
            }
          },
          "metadata": {}
        },
        {
          "output_type": "stream",
          "name": "stdout",
          "text": [
            "Extracting ./files/MNIST/raw/train-images-idx3-ubyte.gz to ./files/MNIST/raw\n",
            "\n",
            "Downloading http://yann.lecun.com/exdb/mnist/train-labels-idx1-ubyte.gz\n",
            "Downloading http://yann.lecun.com/exdb/mnist/train-labels-idx1-ubyte.gz to ./files/MNIST/raw/train-labels-idx1-ubyte.gz\n"
          ]
        },
        {
          "output_type": "display_data",
          "data": {
            "text/plain": [
              "  0%|          | 0/28881 [00:00<?, ?it/s]"
            ],
            "application/vnd.jupyter.widget-view+json": {
              "version_major": 2,
              "version_minor": 0,
              "model_id": "d06e9ed692404b02b76347ea0dcb2514"
            }
          },
          "metadata": {}
        },
        {
          "output_type": "stream",
          "name": "stdout",
          "text": [
            "Extracting ./files/MNIST/raw/train-labels-idx1-ubyte.gz to ./files/MNIST/raw\n",
            "\n",
            "Downloading http://yann.lecun.com/exdb/mnist/t10k-images-idx3-ubyte.gz\n",
            "Downloading http://yann.lecun.com/exdb/mnist/t10k-images-idx3-ubyte.gz to ./files/MNIST/raw/t10k-images-idx3-ubyte.gz\n"
          ]
        },
        {
          "output_type": "display_data",
          "data": {
            "text/plain": [
              "  0%|          | 0/1648877 [00:00<?, ?it/s]"
            ],
            "application/vnd.jupyter.widget-view+json": {
              "version_major": 2,
              "version_minor": 0,
              "model_id": "ae136402e4c24aaca6395b1f2ca50297"
            }
          },
          "metadata": {}
        },
        {
          "output_type": "stream",
          "name": "stdout",
          "text": [
            "Extracting ./files/MNIST/raw/t10k-images-idx3-ubyte.gz to ./files/MNIST/raw\n",
            "\n",
            "Downloading http://yann.lecun.com/exdb/mnist/t10k-labels-idx1-ubyte.gz\n",
            "Downloading http://yann.lecun.com/exdb/mnist/t10k-labels-idx1-ubyte.gz to ./files/MNIST/raw/t10k-labels-idx1-ubyte.gz\n"
          ]
        },
        {
          "output_type": "display_data",
          "data": {
            "text/plain": [
              "  0%|          | 0/4542 [00:00<?, ?it/s]"
            ],
            "application/vnd.jupyter.widget-view+json": {
              "version_major": 2,
              "version_minor": 0,
              "model_id": "bf99098a316e4f5994705e17042a1b11"
            }
          },
          "metadata": {}
        },
        {
          "output_type": "stream",
          "name": "stdout",
          "text": [
            "Extracting ./files/MNIST/raw/t10k-labels-idx1-ubyte.gz to ./files/MNIST/raw\n",
            "\n"
          ]
        }
      ]
    },
    {
      "cell_type": "code",
      "source": [
        "class MNIST(torch.utils.data.Dataset):\n",
        "    def __init__(self, n=1024, img_size=28):\n",
        "        '''\n",
        "         ds = MNIST(n=1024, img_size=28)\n",
        "         \n",
        "         Creates an MNIST dataset of n digit images of the specified size.\n",
        "         The images are converted to 1D vectors of size (img_size)**2.\n",
        "        '''\n",
        "        self.img_size = img_size\n",
        "        self.n = n\n",
        "        ds_full = torchvision.datasets.MNIST('./files/', train=True, download=True,\n",
        "                            transform=torchvision.transforms.Compose([\n",
        "                            torchvision.transforms.Resize((img_size,img_size)),\n",
        "                            torchvision.transforms.ToTensor(),\n",
        "                            torchvision.transforms.Lambda((lambda x: torch.flatten(x))),\n",
        "                            ]))\n",
        "        ds_n = torch.utils.data.Subset(ds_full, range(self.n))\n",
        "        self.x = ds_n\n",
        "\n",
        "    def __len__(self):\n",
        "        return len(self.x)\n",
        "    \n",
        "    def __getitem__(self, idx):\n",
        "        '''ds.__getitem__(idx) returns the image and class for a sample.\n",
        "        '''\n",
        "        x = self.x[idx][0]\n",
        "        t = self.x[idx][1]\n",
        "        return x, t\n",
        "    \n",
        "    def draw(self, x=None, idx=None):\n",
        "        '''ds.draw(x=None, idx=None)\n",
        "           Draws image x, or the image for index idx. If no argument is\n",
        "           given, it chooses an index randomly.\n",
        "        '''\n",
        "        if x is not None:\n",
        "            # Do nothing\n",
        "            pass\n",
        "        elif idx is not None:\n",
        "            x = self.x[idx][0]\n",
        "        else:\n",
        "            r = np.random.randint(0, high=self.n)\n",
        "            x = self.x[r][0]\n",
        "        with torch.no_grad():\n",
        "            plt.imshow(x.reshape((self.img_size, self.img_size)).detach().numpy(), cmap='gray');\n",
        "            plt.axis('off');"
      ],
      "metadata": {
        "id": "5JWQM9LBmHS8"
      },
      "execution_count": 4,
      "outputs": []
    },
    {
      "cell_type": "code",
      "source": [
        "ds = MNIST()"
      ],
      "metadata": {
        "id": "SutRruIrmJRe"
      },
      "execution_count": 5,
      "outputs": []
    },
    {
      "cell_type": "code",
      "source": [
        "# Batched, for training\n",
        "batch_size_train = 32\n",
        "train_dl = torch.utils.data.DataLoader(ds, batch_size=batch_size_train, shuffle=True)"
      ],
      "metadata": {
        "id": "r10NRySfmKkW"
      },
      "execution_count": 6,
      "outputs": []
    },
    {
      "cell_type": "code",
      "source": [
        "# A single batch, for plotting\n",
        "train_all = torch.utils.data.DataLoader(ds, batch_size=1024, shuffle=False)"
      ],
      "metadata": {
        "id": "IeUZzXtbmMOp"
      },
      "execution_count": 7,
      "outputs": []
    },
    {
      "cell_type": "code",
      "source": [
        "class MyAE(nn.Module):\n",
        "    '''\n",
        "     net = MyAE(img_size=28, embedding_dim=2)\n",
        "     \n",
        "     Create an autoencoder for imput images of size (img_size x img_size),\n",
        "     with an embedding (latent) layer of (embedding_dim) neurons.\n",
        "     \n",
        "     Inputs:\n",
        "       img_size       size of input images\n",
        "                      Input samples will be (img_size**2) vectors.\n",
        "       embedding_dim  number of nodes in embedding (latent) layer\n",
        "       \n",
        "     Usage:\n",
        "       net = MyAE()\n",
        "       y = net(x)         # returns output\n",
        "       h = net.encode(x)  # returns latent vectors\n",
        "    '''\n",
        "    def __init__(self, img_size=28, embedding_dim=2):\n",
        "        self.img_size = img_size\n",
        "        self.embedding_dim = embedding_dim\n",
        "        self.losses = []\n",
        "        super().__init__()\n",
        "        \n",
        "        #===== These lines are just placeholders =====\n",
        "        #Encoder\n",
        "        self.enc1 = nn.Linear(self.img_size**2, 256)\n",
        "        self.enc2 = nn.Linear(256, 128)\n",
        "        self.enc3 = nn.Linear(128, self.embedding_dim)\n",
        "        #Decoder\n",
        "        self.dec1 = nn.Linear(self.embedding_dim, 128)\n",
        "        self.dec2 = nn.Linear(128, 256)\n",
        "        self.dec3 = nn.Linear(256, self.img_size**2)\n",
        "\n",
        "    def encode(self,x):\n",
        "      x = torch.relu(self.enc1(x))\n",
        "      x = torch.relu(self.enc2(x))\n",
        "      h = self.enc3(x)\n",
        "      return h\n",
        "        \n",
        "    def decode(self,h):\n",
        "      h = torch.relu(self.dec1(h))\n",
        "      h = torch.relu(self.dec2(h))\n",
        "      y = torch.sigmoid(self.dec3(h))\n",
        "      return y\n",
        "        \n",
        "    def forward(self, x):\n",
        "        \n",
        "        #===== YOUR CODE HERE =====\n",
        "        h = self.encode(x)\n",
        "        y = self.decode(h)\n",
        "        return y\n",
        "\n",
        "\n",
        "    \n",
        "    def learn(self, dl, epochs=10, optimizer=None, loss_fcn=None):\n",
        "        '''\n",
        "         net.learn(dl, epochs=10, optimizer=None, loss_fcn=None)\n",
        "         \n",
        "         Train the network on the dataset delivered by the dataloader dl.\n",
        "         \n",
        "         Inputs:\n",
        "          dl        DataLoader object\n",
        "          epochs    number of epochs to train\n",
        "          optimizer PyTorch optimizer function\n",
        "          loss_fcn  PyTorch loss function\n",
        "        '''\n",
        "        if optimizer is None or loss_fcn is None:\n",
        "            print('Need to specify an optimizer and loss function')\n",
        "            return\n",
        "\n",
        "        for epoch in tqdm(range(epochs)):\n",
        "            total_loss = 0.\n",
        "            count = 0.\n",
        "            for x, t in dl:\n",
        "                #x = x.to(device)   # for use with a GPU\n",
        "                y = self(x)\n",
        "                loss = loss_fcn(y, x)\n",
        "                optimizer.zero_grad()\n",
        "                loss.backward()\n",
        "                optimizer.step()\n",
        "                total_loss += loss.item()*len(t)\n",
        "                count += 1.\n",
        "            self.losses.append(total_loss/len(dl.dataset))\n",
        "\n",
        "        plt.figure(figsize=(6,4))\n",
        "        plt.plot(self.losses); plt.yscale('log');\n",
        "        print(\"Final Loss:\",self.losses[-1])"
      ],
      "metadata": {
        "id": "cSy-FFFTmNsP"
      },
      "execution_count": 10,
      "outputs": []
    },
    {
      "cell_type": "code",
      "source": [
        "device = 'cuda' if torch.cuda.is_available() else 'cpu'\n",
        "net = torch.load('my_AE.pt')\n",
        "\n",
        "net.to(device)"
      ],
      "metadata": {
        "colab": {
          "base_uri": "https://localhost:8080/"
        },
        "id": "0j4HX3kSlo7R",
        "outputId": "f51cbe1b-db80-4a73-9790-ca6ef985fd53"
      },
      "execution_count": 11,
      "outputs": [
        {
          "output_type": "execute_result",
          "data": {
            "text/plain": [
              "MyAE(\n",
              "  (enc1): Linear(in_features=784, out_features=256, bias=True)\n",
              "  (enc2): Linear(in_features=256, out_features=128, bias=True)\n",
              "  (enc3): Linear(in_features=128, out_features=2, bias=True)\n",
              "  (dec1): Linear(in_features=2, out_features=128, bias=True)\n",
              "  (dec2): Linear(in_features=128, out_features=256, bias=True)\n",
              "  (dec3): Linear(in_features=256, out_features=784, bias=True)\n",
              ")"
            ]
          },
          "metadata": {},
          "execution_count": 11
        }
      ]
    },
    {
      "cell_type": "markdown",
      "source": [
        "\n",
        "# C. Plot the latent space"
      ],
      "metadata": {
        "id": "edEo2ghpkE9N"
      }
    },
    {
      "cell_type": "code",
      "source": [
        "h = []\n",
        "with torch.no_grad():\n",
        "    for x, t in train_all:\n",
        "        h.append(net.encode(x).detach().numpy())\n",
        "h = np.concatenate(h, axis=0)\n",
        "\n",
        "t_class = []\n",
        "for x, t in train_all:\n",
        "    t_class.append(t.numpy())\n",
        "t_class = np.concatenate(t_class, axis=0)\n",
        "plot_latent(h, t_class)\n"
      ],
      "metadata": {
        "colab": {
          "base_uri": "https://localhost:8080/",
          "height": 441
        },
        "id": "aSt8bjRMkOWR",
        "outputId": "edba6762-471f-450e-ef32-4b144aeb7ed9"
      },
      "execution_count": 12,
      "outputs": [
        {
          "output_type": "display_data",
          "data": {
            "text/plain": [
              "<Figure size 504x432 with 1 Axes>"
            ],
            "image/png": "[encoded data removed]"
          },
          "metadata": {
            "needs_background": "light"
          }
        }
      ]
    },
    {
      "cell_type": "markdown",
      "source": [
        "# D. Plot reconstructed digit images"
      ],
      "metadata": {
        "id": "zBE3i5cUkbJZ"
      }
    },
    {
      "cell_type": "code",
      "source": [
        "fig, axs = plt.subplots(2, 10, figsize = (10,2))\n",
        "ds = train_all.dataset\n",
        "for c in range(10):\n",
        "  for x,t in ds:\n",
        "    if t == c:\n",
        "      break\n",
        "  with torch.no_grad():\n",
        "    x_recon = net(x)\n",
        "  plt.subplot(2, 10, c+1)\n",
        "  ds.draw(x)\n",
        "  plt.title(f'Class {t}');\n",
        "  plt.subplot(2, 10, c+11)\n",
        "  ds.draw(x_recon)\n",
        "  plt.title(f'Class {t}');\n"
      ],
      "metadata": {
        "id": "nE1vtJS3kVVa",
        "colab": {
          "base_uri": "https://localhost:8080/",
          "height": 153
        },
        "outputId": "0cac7f52-2362-4a34-e748-0a36889c38cc"
      },
      "execution_count": 13,
      "outputs": [
        {
          "output_type": "display_data",
          "data": {
            "text/plain": [
              "<Figure size 720x144 with 20 Axes>"
            ],
            "image/png": "[encoded data removed]"
          },
          "metadata": {
            "needs_background": "light"
          }
        }
      ]
    },
    {
      "cell_type": "code",
      "source": [
        "point_a = np.array([1,-25])\n",
        "with torch.no_grad():\n",
        "  a_recon = torch.tensor(point_a, dtype=torch.float32).to(device)\n",
        "  a_decoded = net.decode(a_recon)\n",
        "ds.draw(a_decoded)"
      ],
      "metadata": {
        "id": "pdvzxf4KkaWa",
        "colab": {
          "base_uri": "https://localhost:8080/",
          "height": 248
        },
        "outputId": "b79d25a7-680f-4b27-ded8-979eb1a169b8"
      },
      "execution_count": 14,
      "outputs": [
        {
          "output_type": "display_data",
          "data": {
            "text/plain": [
              "<Figure size 432x288 with 1 Axes>"
            ],
            "image/png": "[encoded data removed]"
          },
          "metadata": {
            "needs_background": "light"
          }
        }
      ]
    },
    {
      "cell_type": "code",
      "source": [
        "point_b = np.array([18,-85.5])\n",
        "with torch.no_grad():\n",
        "  b_recon = torch.tensor(point_b, dtype=torch.float32).to(device)\n",
        "  b_decoded = net.decode(b_recon)\n",
        "ds.draw(b_decoded)"
      ],
      "metadata": {
        "id": "c1MVAj6fke6x",
        "colab": {
          "base_uri": "https://localhost:8080/",
          "height": 248
        },
        "outputId": "94cb3c3f-42a1-42ff-9a2f-ac75abd098b1"
      },
      "execution_count": 15,
      "outputs": [
        {
          "output_type": "display_data",
          "data": {
            "text/plain": [
              "<Figure size 432x288 with 1 Axes>"
            ],
            "image/png": "[encoded data removed]"
          },
          "metadata": {
            "needs_background": "light"
          }
        }
      ]
    },
    {
      "cell_type": "code",
      "source": [
        "point_overlap = np.array([13,-14])\n",
        "with torch.no_grad():\n",
        "  overlap_recon = torch.tensor(point_overlap, dtype=torch.float32).to(device)\n",
        "  overlap_decoded = net.decode(overlap_recon)\n",
        "ds.draw(overlap_decoded)"
      ],
      "metadata": {
        "id": "PbFV0Z6EkgII",
        "colab": {
          "base_uri": "https://localhost:8080/",
          "height": 248
        },
        "outputId": "478704ac-d2b4-4ad9-cf84-eb7304524750"
      },
      "execution_count": 16,
      "outputs": [
        {
          "output_type": "display_data",
          "data": {
            "text/plain": [
              "<Figure size 432x288 with 1 Axes>"
            ],
            "image/png": "[encoded data removed]"
          },
          "metadata": {
            "needs_background": "light"
          }
        }
      ]
    },
    {
      "cell_type": "code",
      "source": [
        "plot_latent(h, t_class)\n",
        "star_points = np.array([point_a, point_b, point_overlap])\n",
        "star_points\n",
        "for i in range(len(star_points)):\n",
        "        plt.scatter(star_points[i][0], star_points[i][1], marker='*', s=200, color='black')"
      ],
      "metadata": {
        "id": "ZQa7GXZRkhrR",
        "colab": {
          "base_uri": "https://localhost:8080/",
          "height": 441
        },
        "outputId": "3087e0d8-8249-433b-9748-6905ec76d511"
      },
      "execution_count": 17,
      "outputs": [
        {
          "output_type": "display_data",
          "data": {
            "text/plain": [
              "<Figure size 504x432 with 1 Axes>"
            ],
            "image/png": "[encoded data removed]"
          },
          "metadata": {
            "needs_background": "light"
          }
        }
      ]
    },
    {
      "cell_type": "code",
      "source": [],
      "metadata": {
        "id": "G-oT4jal1vN2"
      },
      "execution_count": null,
      "outputs": []
    }
  ]
}