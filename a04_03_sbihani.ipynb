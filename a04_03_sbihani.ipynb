{
  "cells": [
    {
      "cell_type": "markdown",
      "metadata": {
        "id": "Ohq1YSffCaZ7"
      },
      "source": [
        "# A06 Q2: Batch Normalization"
      ]
    },
    {
      "cell_type": "code",
      "execution_count": null,
      "metadata": {
        "colab": {
          "base_uri": "https://localhost:8080/",
          "height": 73
        },
        "id": "ASrppnUfCaZ9",
        "outputId": "0999f766-fdca-4117-8e15-024e002fe3aa"
      },
      "outputs": [
        {
          "output_type": "display_data",
          "data": {
            "text/plain": [
              "<IPython.core.display.HTML object>"
            ],
            "text/html": [
              "\n",
              "     <input type=\"file\" id=\"files-6e652eac-a8cc-4d2f-8fb3-8e72b707b4c5\" name=\"files[]\" multiple disabled\n",
              "        style=\"border:none\" />\n",
              "     <output id=\"result-6e652eac-a8cc-4d2f-8fb3-8e72b707b4c5\">\n",
              "      Upload widget is only available when the cell has been executed in the\n",
              "      current browser session. Please rerun this cell to enable.\n",
              "      </output>\n",
              "      <script>// Copyright 2017 Google LLC\n",
              "//\n",
              "// Licensed under the Apache License, Version 2.0 (the \"License\");\n",
              "// you may not use this file except in compliance with the License.\n",
              "// You may obtain a copy of the License at\n",
              "//\n",
              "//      http://www.apache.org/licenses/LICENSE-2.0\n",
              "//\n",
              "// Unless required by applicable law or agreed to in writing, software\n",
              "// distributed under the License is distributed on an \"AS IS\" BASIS,\n",
              "// WITHOUT WARRANTIES OR CONDITIONS OF ANY KIND, either express or implied.\n",
              "// See the License for the specific language governing permissions and\n",
              "// limitations under the License.\n",
              "\n",
              "/**\n",
              " * @fileoverview Helpers for google.colab Python module.\n",
              " */\n",
              "(function(scope) {\n",
              "function span(text, styleAttributes = {}) {\n",
              "  const element = document.createElement('span');\n",
              "  element.textContent = text;\n",
              "  for (const key of Object.keys(styleAttributes)) {\n",
              "    element.style[key] = styleAttributes[key];\n",
              "  }\n",
              "  return element;\n",
              "}\n",
              "\n",
              "// Max number of bytes which will be uploaded at a time.\n",
              "const MAX_PAYLOAD_SIZE = 100 * 1024;\n",
              "\n",
              "function _uploadFiles(inputId, outputId) {\n",
              "  const steps = uploadFilesStep(inputId, outputId);\n",
              "  const outputElement = document.getElementById(outputId);\n",
              "  // Cache steps on the outputElement to make it available for the next call\n",
              "  // to uploadFilesContinue from Python.\n",
              "  outputElement.steps = steps;\n",
              "\n",
              "  return _uploadFilesContinue(outputId);\n",
              "}\n",
              "\n",
              "// This is roughly an async generator (not supported in the browser yet),\n",
              "// where there are multiple asynchronous steps and the Python side is going\n",
              "// to poll for completion of each step.\n",
              "// This uses a Promise to block the python side on completion of each step,\n",
              "// then passes the result of the previous step as the input to the next step.\n",
              "function _uploadFilesContinue(outputId) {\n",
              "  const outputElement = document.getElementById(outputId);\n",
              "  const steps = outputElement.steps;\n",
              "\n",
              "  const next = steps.next(outputElement.lastPromiseValue);\n",
              "  return Promise.resolve(next.value.promise).then((value) => {\n",
              "    // Cache the last promise value to make it available to the next\n",
              "    // step of the generator.\n",
              "    outputElement.lastPromiseValue = value;\n",
              "    return next.value.response;\n",
              "  });\n",
              "}\n",
              "\n",
              "/**\n",
              " * Generator function which is called between each async step of the upload\n",
              " * process.\n",
              " * @param {string} inputId Element ID of the input file picker element.\n",
              " * @param {string} outputId Element ID of the output display.\n",
              " * @return {!Iterable<!Object>} Iterable of next steps.\n",
              " */\n",
              "function* uploadFilesStep(inputId, outputId) {\n",
              "  const inputElement = document.getElementById(inputId);\n",
              "  inputElement.disabled = false;\n",
              "\n",
              "  const outputElement = document.getElementById(outputId);\n",
              "  outputElement.innerHTML = '';\n",
              "\n",
              "  const pickedPromise = new Promise((resolve) => {\n",
              "    inputElement.addEventListener('change', (e) => {\n",
              "      resolve(e.target.files);\n",
              "    });\n",
              "  });\n",
              "\n",
              "  const cancel = document.createElement('button');\n",
              "  inputElement.parentElement.appendChild(cancel);\n",
              "  cancel.textContent = 'Cancel upload';\n",
              "  const cancelPromise = new Promise((resolve) => {\n",
              "    cancel.onclick = () => {\n",
              "      resolve(null);\n",
              "    };\n",
              "  });\n",
              "\n",
              "  // Wait for the user to pick the files.\n",
              "  const files = yield {\n",
              "    promise: Promise.race([pickedPromise, cancelPromise]),\n",
              "    response: {\n",
              "      action: 'starting',\n",
              "    }\n",
              "  };\n",
              "\n",
              "  cancel.remove();\n",
              "\n",
              "  // Disable the input element since further picks are not allowed.\n",
              "  inputElement.disabled = true;\n",
              "\n",
              "  if (!files) {\n",
              "    return {\n",
              "      response: {\n",
              "        action: 'complete',\n",
              "      }\n",
              "    };\n",
              "  }\n",
              "\n",
              "  for (const file of files) {\n",
              "    const li = document.createElement('li');\n",
              "    li.append(span(file.name, {fontWeight: 'bold'}));\n",
              "    li.append(span(\n",
              "        `(${file.type || 'n/a'}) - ${file.size} bytes, ` +\n",
              "        `last modified: ${\n",
              "            file.lastModifiedDate ? file.lastModifiedDate.toLocaleDateString() :\n",
              "                                    'n/a'} - `));\n",
              "    const percent = span('0% done');\n",
              "    li.appendChild(percent);\n",
              "\n",
              "    outputElement.appendChild(li);\n",
              "\n",
              "    const fileDataPromise = new Promise((resolve) => {\n",
              "      const reader = new FileReader();\n",
              "      reader.onload = (e) => {\n",
              "        resolve(e.target.result);\n",
              "      };\n",
              "      reader.readAsArrayBuffer(file);\n",
              "    });\n",
              "    // Wait for the data to be ready.\n",
              "    let fileData = yield {\n",
              "      promise: fileDataPromise,\n",
              "      response: {\n",
              "        action: 'continue',\n",
              "      }\n",
              "    };\n",
              "\n",
              "    // Use a chunked sending to avoid message size limits. See b/62115660.\n",
              "    let position = 0;\n",
              "    do {\n",
              "      const length = Math.min(fileData.byteLength - position, MAX_PAYLOAD_SIZE);\n",
              "      const chunk = new Uint8Array(fileData, position, length);\n",
              "      position += length;\n",
              "\n",
              "      const base64 = btoa(String.fromCharCode.apply(null, chunk));\n",
              "      yield {\n",
              "        response: {\n",
              "          action: 'append',\n",
              "          file: file.name,\n",
              "          data: base64,\n",
              "        },\n",
              "      };\n",
              "\n",
              "      let percentDone = fileData.byteLength === 0 ?\n",
              "          100 :\n",
              "          Math.round((position / fileData.byteLength) * 100);\n",
              "      percent.textContent = `${percentDone}% done`;\n",
              "\n",
              "    } while (position < fileData.byteLength);\n",
              "  }\n",
              "\n",
              "  // All done.\n",
              "  yield {\n",
              "    response: {\n",
              "      action: 'complete',\n",
              "    }\n",
              "  };\n",
              "}\n",
              "\n",
              "scope.google = scope.google || {};\n",
              "scope.google.colab = scope.google.colab || {};\n",
              "scope.google.colab._files = {\n",
              "  _uploadFiles,\n",
              "  _uploadFilesContinue,\n",
              "};\n",
              "})(self);\n",
              "</script> "
            ]
          },
          "metadata": {}
        },
        {
          "output_type": "stream",
          "name": "stdout",
          "text": [
            "Saving utils.py to utils.py\n"
          ]
        }
      ],
      "source": [
        "import numpy as np\n",
        "import torch\n",
        "import torch.nn as nn\n",
        "from google.colab import files #added for google colab\n",
        "src = list(files.upload().values())[0] #added for google colab\n",
        "open('utils.py','wb').write(src) #added for google colab\n",
        "import utils\n",
        "import matplotlib.pyplot as plt\n",
        "from tqdm import tqdm"
      ]
    },
    {
      "cell_type": "code",
      "execution_count": null,
      "metadata": {
        "id": "0N-lBeMJCaZ-"
      },
      "outputs": [],
      "source": []
    },
    {
      "cell_type": "markdown",
      "metadata": {
        "id": "_93zVEBxCaZ-"
      },
      "source": [
        "# Dataset"
      ]
    },
    {
      "cell_type": "code",
      "execution_count": null,
      "metadata": {
        "id": "jM9qLuq-CaZ-"
      },
      "outputs": [],
      "source": [
        "# Make a PyTorch wrapper for our UClasses dataset\n",
        "class UClasses(torch.utils.data.Dataset):\n",
        "    def __init__(self, n=300):\n",
        "        super().__init__()\n",
        "        np_ds = utils.UClasses(n=n, binary=False)  # heavy lifting done by NumPy code\n",
        "        self.x = torch.tensor(np_ds.inputs(), dtype=torch.float32)\n",
        "        self.t = torch.argmax(torch.tensor(np_ds.targets()), axis=1, keepdim=False)\n",
        "        \n",
        "    def __len__(self):\n",
        "        return len(self.x)\n",
        "    \n",
        "    def __getitem__(self, idx):\n",
        "        return self.x[idx], self.t[idx]\n",
        "    \n",
        "    def inputs(self):\n",
        "        return self.x\n",
        "    \n",
        "    def targets(self):\n",
        "        return self.t\n",
        "            \n",
        "    def plot(self, labels=None, *args, **kwargs): \n",
        "        if labels is None:\n",
        "            labels = self.t\n",
        "        colour_options = ['y', 'r', 'g', 'b', 'k']\n",
        "        if len(labels.size())>1 and len(labels[0])>1:\n",
        "            # one-hot labels\n",
        "            cidx = torch.argmax(labels, axis=1)\n",
        "        else:\n",
        "            # binary labels\n",
        "            cidx = (labels>0.5).type(torch.int)\n",
        "        colours = [colour_options[k] for k in cidx]\n",
        "        plt.scatter(self.x[:,0].detach(), self.x[:,1].detach(), color=colours, marker='.')\n",
        "        plt.axis('equal');"
      ]
    },
    {
      "cell_type": "code",
      "execution_count": null,
      "metadata": {
        "colab": {
          "base_uri": "https://localhost:8080/",
          "height": 265
        },
        "id": "3HjZE70XCaZ_",
        "outputId": "4ac5cddd-3efc-4072-a065-93c7c0a0ade3"
      },
      "outputs": [
        {
          "output_type": "display_data",
          "data": {
            "text/plain": [
              "<Figure size 432x288 with 1 Axes>"
            ],
            "image/png": "[encoded data removed]"
          },
          "metadata": {
            "needs_background": "light"
          }
        }
      ],
      "source": [
        "train = UClasses(n=1000)\n",
        "train.plot()"
      ]
    },
    {
      "cell_type": "code",
      "execution_count": null,
      "metadata": {
        "colab": {
          "base_uri": "https://localhost:8080/"
        },
        "id": "1I3AcYD7CaZ_",
        "outputId": "5f9bfe91-f353-44c5-bc43-8b7dda5fdb49"
      },
      "outputs": [
        {
          "output_type": "execute_result",
          "data": {
            "text/plain": [
              "tensor(1)"
            ]
          },
          "metadata": {},
          "execution_count": 4
        }
      ],
      "source": [
        "train.targets()[0]"
      ]
    },
    {
      "cell_type": "code",
      "execution_count": null,
      "metadata": {
        "id": "uHOZCfoiCaZ_"
      },
      "outputs": [],
      "source": [
        "train_dl = torch.utils.data.DataLoader(train, batch_size=200, shuffle=True)"
      ]
    },
    {
      "cell_type": "markdown",
      "metadata": {
        "id": "a5ZJ9QcaCaZ_"
      },
      "source": [
        "# A. `BatchNorm` Class"
      ]
    },
    {
      "cell_type": "code",
      "execution_count": null,
      "metadata": {
        "id": "OSdHGtq5CaaA"
      },
      "outputs": [],
      "source": [
        "class BatchNorm(nn.Module):\n",
        "    '''\n",
        "     lyr = BatchNorm(eps=0.001)\n",
        "     \n",
        "     Creates a PyTorch layer (Module) that implements batch normalization, so\n",
        "     that its outputs are remapped. For each node in the layer, the output for the\n",
        "     batch is normalized so that it is zero-mean and approximately unit-variance.\n",
        "     \n",
        "     Inputs:\n",
        "      eps     stability parameter, to avoid division by zero\n",
        "             \n",
        "     Usage:\n",
        "      lyr = BatchNorm(eps=0.001)\n",
        "      y = lyr(x)    # x is a batch (tensor), with one sample in each row\n",
        "                    # y is the same shape as x\n",
        "    '''\n",
        "    def __init__(self, eps=0.001):\n",
        "        self.eps = eps\n",
        "        super().__init__()\n",
        "        \n",
        "\n",
        "    def forward(self, x):\n",
        "        y = (x - torch.mean(x,dim=0))/torch.sqrt(torch.var(x,dim=0) + self.eps)  # replace this line\n",
        "        return y"
      ]
    },
    {
      "cell_type": "code",
      "execution_count": null,
      "metadata": {
        "id": "O8uzrDicCaaA"
      },
      "outputs": [],
      "source": []
    },
    {
      "cell_type": "markdown",
      "metadata": {
        "id": "xEC1BT4YCaaA"
      },
      "source": [
        "# B. Demonstrate `BatchNorm`"
      ]
    },
    {
      "cell_type": "code",
      "execution_count": null,
      "metadata": {
        "colab": {
          "base_uri": "https://localhost:8080/"
        },
        "id": "lCx-9WqvCaaA",
        "outputId": "1cc40725-0fd4-4744-94e5-5204be85c81c"
      },
      "outputs": [
        {
          "output_type": "stream",
          "name": "stdout",
          "text": [
            "Mean of Inputs:  tensor([ 1.7707, -0.3455])\n",
            "Variance of Inputs:  tensor([0.3563, 0.2952])\n",
            "Mean of Normalized Input:  tensor([-8.0109e-08, -4.9591e-08])\n",
            "Variance of Normalized Inputs: tensor([0.9972, 0.9966])\n"
          ]
        }
      ],
      "source": [
        "print(\"Mean of Inputs: \",torch.mean(train.inputs(),dim=0))\n",
        "print(\"Variance of Inputs: \",torch.var(train.inputs(),dim=0))\n",
        "net = BatchNorm(eps=0.001)\n",
        "print(\"Mean of Normalized Input: \",net.forward(train.inputs()).mean(dim=0))\n",
        "print(\"Variance of Normalized Inputs:\",net.forward(train.inputs()).var(dim=0))"
      ]
    },
    {
      "cell_type": "markdown",
      "metadata": {
        "id": "bscny60iCaaA"
      },
      "source": [
        "# Network base class, `NNBase`"
      ]
    },
    {
      "cell_type": "code",
      "execution_count": null,
      "metadata": {
        "id": "ogp5HtABCaaA"
      },
      "outputs": [],
      "source": [
        "# This network base class saves us from having to duplicate the learn function.\n",
        "\n",
        "class NNBase(nn.Module):\n",
        "    '''\n",
        "     You should not instantiate this class directly. \n",
        "     Base class for other simple neural network classes.\n",
        "     eg.\n",
        "       class MyDerivedNN(NNBase):\n",
        "          ...\n",
        "    '''\n",
        "    def __init__(self):\n",
        "        super().__init__()\n",
        "        self.losses = []\n",
        "        self.loss_fcn = None  # Should be overridden in derived class\n",
        "        \n",
        "    def forward(self, x):\n",
        "        return x\n",
        "        \n",
        "    def learn(self, dl, epochs=10, lr=0.1, plot=True):\n",
        "        '''\n",
        "         net.learn(dl, epochs=10, lr=0.1, plot=True)\n",
        "         \n",
        "         Performs SGD on the neural network.\n",
        "         Inputs:\n",
        "          dl      DataLoader object (PyTorch)\n",
        "          epochs  number of epochs to perform\n",
        "          lr      learning rate\n",
        "          plot    whether or not to plot the learning curve\n",
        "        '''\n",
        "        optim = torch.optim.SGD(self.parameters(), lr=lr)\n",
        "        for epoch in tqdm(range(epochs)):\n",
        "            total_loss = 0.\n",
        "            for x,t in dl:\n",
        "                y = self(x)\n",
        "                loss = self.loss_fcn(y, t.float().unsqueeze(1))\n",
        "                optim.zero_grad()\n",
        "                loss.backward()\n",
        "                optim.step()\n",
        "                total_loss += loss.item()\n",
        "            self.losses.append(total_loss/len(dl))\n",
        "        if plot:\n",
        "            plt.figure(figsize=(4,4))\n",
        "            plt.plot(self.losses);"
      ]
    },
    {
      "cell_type": "markdown",
      "metadata": {
        "id": "bi2lsgzPCaaB"
      },
      "source": [
        "# C. Compare learning performance"
      ]
    },
    {
      "cell_type": "markdown",
      "metadata": {
        "id": "6Y9KihxwCaaB"
      },
      "source": [
        "## Create two network classes"
      ]
    },
    {
      "cell_type": "code",
      "execution_count": null,
      "metadata": {
        "id": "mtOONaRiCaaB"
      },
      "outputs": [],
      "source": [
        "from torch.nn.modules.loss import MSELoss\n",
        "# NormalNet\n",
        "# Create a simple neural network that does NOT use batchnorm.\n",
        "# You should use NNBase as the base class.\n",
        "class NormalNet(NNBase):\n",
        "  def __init__(self):\n",
        "    super().__init__()\n",
        "    self.loss_fcn = nn.BCELoss()\n",
        "    self.lyrs = nn.Sequential(\n",
        "        nn.Linear(2,100),\n",
        "        nn.LeakyReLU(),\n",
        "        nn.Linear(100,256),\n",
        "        nn.LeakyReLU(),\n",
        "        nn.Linear(256,100),\n",
        "        nn.LeakyReLU(),\n",
        "        nn.Linear(100,1),\n",
        "        nn.Sigmoid()\n",
        "    )\n",
        "\n",
        "  def forward(self,x):\n",
        "    y = x\n",
        "    for lyr in self.lyrs:\n",
        "      y = lyr(y)\n",
        "    return y\n",
        "\n",
        "  \n"
      ]
    },
    {
      "cell_type": "code",
      "execution_count": null,
      "metadata": {
        "id": "HhAX7O5-CaaB"
      },
      "outputs": [],
      "source": [
        "\n",
        "# BNNet\n",
        "# Create a simple neural network that DOES use batchnorm after each\n",
        "# layer (except the output layer).\n",
        "# You should use NNBase as the base class.\n",
        "# Apply batchnorm between the activation function and the connections\n",
        "# to the next layer.\n",
        "class BNNet(NNBase):\n",
        "  def __init__(self):\n",
        "    super().__init__()\n",
        "    self.loss_fcn = nn.BCELoss()\n",
        "    self.lyrs = nn.Sequential(\n",
        "        nn.Linear(2,100),\n",
        "        nn.LeakyReLU(),\n",
        "        nn.BatchNorm1d(100),\n",
        "        nn.Linear(100,256),\n",
        "        nn.LeakyReLU(),\n",
        "        nn.BatchNorm1d(256),\n",
        "        nn.Linear(256,100),\n",
        "        nn.LeakyReLU(),\n",
        "        nn.BatchNorm1d(100),\n",
        "        nn.Linear(100,1),\n",
        "        nn.Sigmoid()\n",
        "    )\n",
        "\n",
        "  def forward(self,x):\n",
        "    y = x\n",
        "    for lyr in self.lyrs:\n",
        "      y = lyr(y)\n",
        "    return y\n"
      ]
    },
    {
      "cell_type": "markdown",
      "metadata": {
        "id": "OPoBrxXVCaaB"
      },
      "source": [
        "## Experiments\n",
        "Let's compare the learning curves for the following cases:\n",
        "1. Normal NN (no batchnorm)\n",
        "3. Batchnorm"
      ]
    },
    {
      "cell_type": "code",
      "execution_count": null,
      "metadata": {
        "id": "4CZWLarjCaaB"
      },
      "outputs": [],
      "source": [
        "# Code to run experiments\n",
        "def experiment(network_class, num_epochs = 200, num_runs = 10, lr=0.05):\n",
        "  losses = []\n",
        "  for i in range(num_runs):\n",
        "    train = UClasses(n=1000)\n",
        "    train_dl = torch.utils.data.DataLoader(train, batch_size=200, shuffle=True)\n",
        "    net = network_class()\n",
        "    net.learn(train_dl,epochs=num_epochs, lr = lr, plot = False)\n",
        "    losses+=[net.losses]\n",
        "  \n",
        "  return losses\n",
        "\n",
        "\n"
      ]
    },
    {
      "cell_type": "code",
      "execution_count": null,
      "metadata": {
        "scrolled": false,
        "id": "7dyqWDu0CaaB",
        "colab": {
          "base_uri": "https://localhost:8080/"
        },
        "outputId": "b24d09c2-2926-4841-ca23-c2ecdafd1b16"
      },
      "outputs": [
        {
          "output_type": "stream",
          "name": "stderr",
          "text": [
            "100%|██████████| 200/200 [00:03<00:00, 53.21it/s]\n",
            "100%|██████████| 200/200 [00:04<00:00, 43.08it/s]\n",
            "100%|██████████| 200/200 [00:03<00:00, 51.37it/s]\n",
            "100%|██████████| 200/200 [00:04<00:00, 46.30it/s]\n",
            "100%|██████████| 200/200 [00:04<00:00, 42.75it/s]\n",
            "100%|██████████| 200/200 [00:03<00:00, 56.37it/s]\n",
            "100%|██████████| 200/200 [00:03<00:00, 56.35it/s]\n",
            "100%|██████████| 200/200 [00:04<00:00, 42.96it/s]\n",
            "100%|██████████| 200/200 [00:03<00:00, 56.41it/s]\n",
            "100%|██████████| 200/200 [00:03<00:00, 56.84it/s]\n",
            "100%|██████████| 200/200 [00:05<00:00, 35.99it/s]\n",
            "100%|██████████| 200/200 [00:04<00:00, 44.69it/s]\n",
            "100%|██████████| 200/200 [00:04<00:00, 45.52it/s]\n",
            "100%|██████████| 200/200 [00:05<00:00, 37.18it/s]\n",
            "100%|██████████| 200/200 [00:04<00:00, 45.23it/s]\n",
            "100%|██████████| 200/200 [00:04<00:00, 42.44it/s]\n",
            "100%|██████████| 200/200 [00:05<00:00, 39.18it/s]\n",
            "100%|██████████| 200/200 [00:04<00:00, 46.23it/s]\n",
            "100%|██████████| 200/200 [00:05<00:00, 36.75it/s]\n",
            "100%|██████████| 200/200 [00:04<00:00, 46.05it/s]\n"
          ]
        }
      ],
      "source": [
        "num_epochs = 200\n",
        "losses_normal = experiment(NormalNet, num_epochs=num_epochs)\n",
        "losses_batch = experiment(BNNet, num_epochs=num_epochs)"
      ]
    },
    {
      "cell_type": "markdown",
      "metadata": {
        "id": "enNtWUFyCaaB"
      },
      "source": [
        "## Results"
      ]
    },
    {
      "cell_type": "code",
      "execution_count": null,
      "metadata": {
        "id": "dPjgeWMuCaaB",
        "colab": {
          "base_uri": "https://localhost:8080/",
          "height": 404
        },
        "outputId": "627e8735-50f9-49c3-fec4-77c24b920d73"
      },
      "outputs": [
        {
          "output_type": "display_data",
          "data": {
            "text/plain": [
              "<Figure size 576x432 with 1 Axes>"
            ],
            "image/png": "[encoded data removed]"
          },
          "metadata": {
            "needs_background": "light"
          }
        }
      ],
      "source": [
        "# Code to plot the results of the trials\n",
        "x = np.arange(0,num_epochs)\n",
        "losses_normal = np.array(losses_normal)\n",
        "losses_batch = np.array(losses_batch)\n",
        "mean_losses_normal = losses_normal.mean(axis=0)\n",
        "std_losses_normal = losses_normal.std(axis=0)\n",
        "mean_losses_batch = losses_batch.mean(axis=0)\n",
        "std_losses_batch = losses_batch.std(axis=0)\n",
        "plt.figure(figsize=(8,6))\n",
        "plt.plot(x, mean_losses_normal, label='NormalNet')\n",
        "plt.fill_between(x, mean_losses_normal-std_losses_normal, mean_losses_normal+std_losses_normal, alpha=0.2)\n",
        "plt.plot(x, mean_losses_batch, label='BNNet')\n",
        "plt.fill_between(x, mean_losses_batch-std_losses_batch, mean_losses_batch+std_losses_batch, alpha=0.2)\n",
        "\n",
        "# add labels and legend\n",
        "plt.title('Comparison of NormalNet and BNNet')\n",
        "plt.xlabel('Epoch')\n",
        "plt.ylabel('Loss')\n",
        "plt.legend()\n",
        "\n",
        "# show the plot\n",
        "plt.show()\n",
        "\n",
        "\n"
      ]
    },
    {
      "cell_type": "code",
      "execution_count": null,
      "metadata": {
        "id": "pWNPHqD1CaaB"
      },
      "outputs": [],
      "source": []
    }
  ],
  "metadata": {
    "kernelspec": {
      "display_name": "Python 3",
      "language": "python",
      "name": "python3"
    },
    "language_info": {
      "codemirror_mode": {
        "name": "ipython",
        "version": 3
      },
      "file_extension": ".py",
      "mimetype": "text/x-python",
      "name": "python",
      "nbconvert_exporter": "python",
      "pygments_lexer": "ipython3",
      "version": "3.8.3"
    },
    "colab": {
      "provenance": []
    }
  },
  "nbformat": 4,
  "nbformat_minor": 0
}